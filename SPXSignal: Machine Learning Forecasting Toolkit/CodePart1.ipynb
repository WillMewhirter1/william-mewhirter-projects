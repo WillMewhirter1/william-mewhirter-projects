{
  "cells": [
    {
      "cell_type": "markdown",
      "metadata": {
        "id": "OqO7La5cK2JR"
      },
      "source": [
        "##Problem 1"
      ]
    },
    {
      "cell_type": "code",
      "execution_count": null,
      "metadata": {
        "colab": {
          "base_uri": "https://localhost:8080/"
        },
        "id": "QyGbFG7vLfrK",
        "outputId": "18600ef0-fc27-4b82-a81f-0755b4c6aed4"
      },
      "outputs": [
        {
          "output_type": "stream",
          "name": "stderr",
          "text": [
            "Installing packages into ‘/usr/local/lib/R/site-library’\n",
            "(as ‘lib’ is unspecified)\n",
            "\n",
            "also installing the dependency ‘xts’\n",
            "\n",
            "\n"
          ]
        }
      ],
      "source": [
        "install.packages(c(\"TTR\", \"zoo\", \"ggplot2\"))\n"
      ]
    },
    {
      "cell_type": "code",
      "execution_count": null,
      "metadata": {
        "id": "AOLLs9QVONb1",
        "colab": {
          "base_uri": "https://localhost:8080/"
        },
        "outputId": "5da65011-6f51-4312-92c9-0acf4f2d764e"
      },
      "outputs": [
        {
          "output_type": "stream",
          "name": "stderr",
          "text": [
            "Installing package into ‘/usr/local/lib/R/site-library’\n",
            "(as ‘lib’ is unspecified)\n",
            "\n"
          ]
        }
      ],
      "source": [
        "install.packages(\"quantmod\")\n"
      ]
    },
    {
      "cell_type": "code",
      "execution_count": null,
      "metadata": {
        "colab": {
          "base_uri": "https://localhost:8080/"
        },
        "id": "Zm66xB7pPUgy",
        "outputId": "0ebc6ec7-6c44-4a2c-f088-f3e595f27e3d"
      },
      "outputs": [
        {
          "output_type": "stream",
          "name": "stderr",
          "text": [
            "Installing packages into ‘/usr/local/lib/R/site-library’\n",
            "(as ‘lib’ is unspecified)\n",
            "\n",
            "also installing the dependencies ‘strucchange’, ‘urca’, ‘lmtest’, ‘sandwich’\n",
            "\n",
            "\n"
          ]
        }
      ],
      "source": [
        "install.packages(c(\"plyr\", \"vars\"))\n"
      ]
    },
    {
      "cell_type": "code",
      "execution_count": null,
      "metadata": {
        "colab": {
          "base_uri": "https://localhost:8080/"
        },
        "id": "FFFVs7Z6QNFW",
        "outputId": "54cb8ea7-b0df-46a6-d6d5-6c15c4e895c2"
      },
      "outputs": [
        {
          "output_type": "stream",
          "name": "stderr",
          "text": [
            "\n",
            "Attaching package: ‘zoo’\n",
            "\n",
            "\n",
            "The following objects are masked from ‘package:base’:\n",
            "\n",
            "    as.Date, as.Date.numeric\n",
            "\n",
            "\n",
            "Loading required package: xts\n",
            "\n",
            "Registered S3 method overwritten by 'quantmod':\n",
            "  method            from\n",
            "  as.zoo.data.frame zoo \n",
            "\n",
            "Loading required package: MASS\n",
            "\n",
            "Loading required package: strucchange\n",
            "\n",
            "Loading required package: sandwich\n",
            "\n",
            "Loading required package: urca\n",
            "\n",
            "Loading required package: lmtest\n",
            "\n"
          ]
        }
      ],
      "source": [
        "library(TTR)       # For EMA\n",
        "library(zoo)       # For rolling averages\n",
        "library(ggplot2)   # For visualization\n",
        "library(quantmod)\n",
        "library(plyr)\n",
        "library(vars)"
      ]
    },
    {
      "cell_type": "code",
      "execution_count": null,
      "metadata": {
        "id": "GgpiNvhIQor0",
        "colab": {
          "base_uri": "https://localhost:8080/"
        },
        "outputId": "60a500ba-fe70-49ae-a6d3-763fbba4d8dc"
      },
      "outputs": [
        {
          "output_type": "stream",
          "name": "stderr",
          "text": [
            "Warning message in to_period(xx, period = on.opts[[period]], ...):\n",
            "“missing values removed from data”\n",
            "Warning message in to_period(xx, period = on.opts[[period]], ...):\n",
            "“missing values removed from data”\n",
            "Warning message in to_period(xx, period = on.opts[[period]], ...):\n",
            "“missing values removed from data”\n",
            "Warning message in to_period(xx, period = on.opts[[period]], ...):\n",
            "“missing values removed from data”\n",
            "Warning message in to_period(xx, period = on.opts[[period]], ...):\n",
            "“missing values removed from data”\n",
            "Warning message in to_period(xx, period = on.opts[[period]], ...):\n",
            "“missing values removed from data”\n",
            "Warning message in to_period(xx, period = on.opts[[period]], ...):\n",
            "“missing values removed from data”\n",
            "Warning message in to_period(xx, period = on.opts[[period]], ...):\n",
            "“missing values removed from data”\n",
            "Warning message in to_period(xx, period = on.opts[[period]], ...):\n",
            "“missing values removed from data”\n",
            "Warning message in to_period(xx, period = on.opts[[period]], ...):\n",
            "“missing values removed from data”\n"
          ]
        }
      ],
      "source": [
        "data.env <- readRDS(\"WorldMarkts99_20.RDS\")\n",
        "\n",
        "# Extract all market names (tickers)\n",
        "markets <- ls(data.env)\n",
        "\n",
        "# Compute weekly returns (log)\n",
        "returns <- xts()\n",
        "for (sym in markets) {\n",
        "  ret <- periodReturn(Ad(get(sym, data.env)), period = \"weekly\", type = \"log\")\n",
        "  returns <- merge(returns, ret)\n",
        "}\n",
        "returns[is.na(returns)] <- 0\n",
        "colnames(returns) <- paste(markets, \".ret\", sep = \"\")\n",
        "\n",
        "# Filter your assigned analysis period (2017–2020)\n",
        "ret.wk <- returns[\"2017-01-01/2020-04-30\"]"
      ]
    },
    {
      "cell_type": "code",
      "execution_count": null,
      "metadata": {
        "id": "IF274lMnRX4s"
      },
      "outputs": [],
      "source": [
        "# Extract GSPC returns from ret.wk and drop any missing values\n",
        "rets <- na.omit(ret.wk[,\"GSPC.ret\"])\n",
        "\n",
        "# Compute EWMA variance and volatility\n",
        "lambda <- 0.94\n",
        "ewma_var <- EMA(rets^2, ratio = 1 - lambda)\n",
        "ewma_vol <- sqrt(ewma_var)\n",
        "\n",
        "# Compute 10-week rolling variance and volatility\n",
        "rolling_var <- rollapply(rets^2, width = 10, FUN = mean, align = \"right\", fill = NA)\n",
        "rolling_vol <- sqrt(rolling_var)\n",
        "\n",
        "# Create combined data frame (use the same column names as in the plot)\n",
        "vol_df <- na.omit(data.frame(\n",
        "  date = index(rets),\n",
        "  EWMA = as.numeric(ewma_vol),\n",
        "  Rolling = as.numeric(rolling_vol)\n",
        "))"
      ]
    },
    {
      "cell_type": "code",
      "execution_count": null,
      "metadata": {
        "id": "MDvILui0Radf",
        "colab": {
          "base_uri": "https://localhost:8080/",
          "height": 437
        },
        "outputId": "a7a58a60-dfba-437e-8b55-6c581b9b0e1b"
      },
      "outputs": [
        {
          "output_type": "display_data",
          "data": {
            "text/plain": [
              "plot without title"
            ],
            "image/png": "[encoded data removed]"
          },
          "metadata": {
            "image/png": {
              "width": 420,
              "height": 420
            }
          }
        }
      ],
      "source": [
        "ggplot(vol_df, aes(x = date)) +\n",
        "  geom_line(aes(y = EWMA, color = \"EWMA (λ = 0.94)\"), linewidth = 1) +\n",
        "  geom_line(aes(y = Rolling, color = \"10-week Rolling\"), linewidth = 1) +\n",
        "  labs(\n",
        "    title = \"GSPC Weekly Volatility: EWMA vs. Rolling (2017–2020)\",\n",
        "    y = \"Volatility\",\n",
        "    x = \"Date\",\n",
        "    color = \"Method\"\n",
        "  ) +\n",
        "  theme_minimal() +\n",
        "  theme(\n",
        "    legend.position = \"top\",\n",
        "    plot.title = element_text(face = \"bold\")\n",
        "  )\n"
      ]
    },
    {
      "cell_type": "markdown",
      "metadata": {
        "id": "pM64mCRGSmLn"
      },
      "source": [
        "The plot compares the estimated volatility of GSPC weekly returns from 2017 to 2020 using two methods: EWMA with λ = 0.94 and a 10-week rolling window. Both methods generally follow similar trends, but the EWMA-based estimate reacts more smoothly and promptly to sudden changes in market conditions. For example, during the sharp market decline in early 2020, EWMA volatility rises rapidly, while the rolling estimate lags and exhibits more jagged fluctuations. This demonstrates the EWMA method’s advantage in capturing recent volatility shocks with greater sensitivity, making it more suitable for real-time risk management."
      ]
    },
    {
      "cell_type": "markdown",
      "metadata": {
        "id": "Z3GRZXmsK0jv"
      },
      "source": [
        "##Question 2."
      ]
    },
    {
      "cell_type": "code",
      "execution_count": null,
      "metadata": {
        "id": "r0uhu8HqRJ8Y",
        "colab": {
          "base_uri": "https://localhost:8080/"
        },
        "outputId": "e97d2adb-7e39-45a5-9656-0e04a2c6029a"
      },
      "outputs": [
        {
          "output_type": "stream",
          "name": "stderr",
          "text": [
            "Installing packages into ‘/usr/local/lib/R/site-library’\n",
            "(as ‘lib’ is unspecified)\n",
            "\n"
          ]
        }
      ],
      "source": [
        "install.packages(c(\n",
        "  \"xts\", \"quantmod\", \"plyr\", \"vars\"\n",
        "))\n"
      ]
    },
    {
      "cell_type": "code",
      "execution_count": null,
      "metadata": {
        "id": "WHlHD7lhWJau",
        "colab": {
          "base_uri": "https://localhost:8080/"
        },
        "outputId": "9863cc68-5325-4850-a871-5fb2f1db0a12"
      },
      "outputs": [
        {
          "output_type": "stream",
          "name": "stderr",
          "text": [
            "Installing packages into ‘/usr/local/lib/R/site-library’\n",
            "(as ‘lib’ is unspecified)\n",
            "\n"
          ]
        }
      ],
      "source": [
        "install.packages(c(\n",
        "  \"TTR\", \"lmtest\"\n",
        "))\n"
      ]
    },
    {
      "cell_type": "code",
      "execution_count": null,
      "metadata": {
        "id": "jMCqBAS_WeW3",
        "colab": {
          "base_uri": "https://localhost:8080/"
        },
        "outputId": "47f36838-f72f-4408-8745-607af9410f72"
      },
      "outputs": [
        {
          "output_type": "stream",
          "name": "stderr",
          "text": [
            "Installing package into ‘/usr/local/lib/R/site-library’\n",
            "(as ‘lib’ is unspecified)\n",
            "\n",
            "also installing the dependencies ‘rbibutils’, ‘listenv’, ‘parallelly’, ‘Rdpack’, ‘cowplot’, ‘Deriv’, ‘microbenchmark’, ‘SparseM’, ‘MatrixModels’, ‘checkmate’, ‘future’, ‘globals’, ‘R.oo’, ‘R.methodsS3’, ‘minqa’, ‘nloptr’, ‘reformulas’, ‘doBy’, ‘carData’, ‘abind’, ‘Formula’, ‘quantreg’, ‘gridExtra’, ‘htmlTable’, ‘viridis’, ‘colorspace’, ‘coda’, ‘furrr’, ‘writexl’, ‘R.utils’, ‘mnormt’, ‘GPArotation’, ‘lme4’, ‘pbkrtest’, ‘car’, ‘reshape2’, ‘estimability’, ‘numDeriv’, ‘mvtnorm’, ‘bayestestR’, ‘insight’, ‘parameters’, ‘datawizard’, ‘lpSolve’, ‘Hmisc’, ‘pbivnorm’, ‘quadprog’, ‘broom.mixed’, ‘pander’, ‘rio’, ‘psych’, ‘afex’, ‘emmeans’, ‘effectsize’, ‘performance’, ‘mediation’, ‘interactions’, ‘lavaan’, ‘jtools’, ‘texreg’, ‘lmerTest’\n",
            "\n",
            "\n",
            "Warning message in install.packages(\"bruceR\", dependencies = c(\"Depends\", \"Imports\")):\n",
            "“installation of package ‘lme4’ had non-zero exit status”\n",
            "Warning message in install.packages(\"bruceR\", dependencies = c(\"Depends\", \"Imports\")):\n",
            "“installation of package ‘pbkrtest’ had non-zero exit status”\n",
            "Warning message in install.packages(\"bruceR\", dependencies = c(\"Depends\", \"Imports\")):\n",
            "“installation of package ‘mediation’ had non-zero exit status”\n",
            "Warning message in install.packages(\"bruceR\", dependencies = c(\"Depends\", \"Imports\")):\n",
            "“installation of package ‘lmerTest’ had non-zero exit status”\n",
            "Warning message in install.packages(\"bruceR\", dependencies = c(\"Depends\", \"Imports\")):\n",
            "“installation of package ‘car’ had non-zero exit status”\n",
            "Warning message in install.packages(\"bruceR\", dependencies = c(\"Depends\", \"Imports\")):\n",
            "“installation of package ‘afex’ had non-zero exit status”\n",
            "Warning message in install.packages(\"bruceR\", dependencies = c(\"Depends\", \"Imports\")):\n",
            "“installation of package ‘bruceR’ had non-zero exit status”\n"
          ]
        }
      ],
      "source": [
        "install.packages(\"bruceR\", dependencies = c(\"Depends\", \"Imports\"))\n"
      ]
    },
    {
      "cell_type": "code",
      "execution_count": null,
      "metadata": {
        "id": "oLa_Wct8VHzQ",
        "colab": {
          "base_uri": "https://localhost:8080/",
          "height": 106
        },
        "outputId": "d5063272-e181-4963-b592-e4cfef488589"
      },
      "outputs": [
        {
          "output_type": "error",
          "ename": "ERROR",
          "evalue": "Error in library(bruceR): there is no package called ‘bruceR’\n",
          "traceback": [
            "Error in library(bruceR): there is no package called ‘bruceR’\nTraceback:\n",
            "1. stop(packageNotFoundError(package, lib.loc, sys.call()))"
          ]
        }
      ],
      "source": [
        "library(xts)\n",
        "library(quantmod)\n",
        "library(plyr)\n",
        "library(vars)\n",
        "library(bruceR)\n",
        "library(TTR)\n",
        "library(lmtest)"
      ]
    },
    {
      "cell_type": "code",
      "execution_count": null,
      "metadata": {
        "id": "zBTR6W2bQ1L_",
        "colab": {
          "base_uri": "https://localhost:8080/"
        },
        "outputId": "4a80d8ab-5c0e-4a97-be8e-68b121dd0033"
      },
      "outputs": [
        {
          "output_type": "stream",
          "name": "stderr",
          "text": [
            "Warning message in to_period(xx, period = on.opts[[period]], ...):\n",
            "“missing values removed from data”\n",
            "Warning message in to_period(xx, period = on.opts[[period]], ...):\n",
            "“missing values removed from data”\n",
            "Warning message in to_period(xx, period = on.opts[[period]], ...):\n",
            "“missing values removed from data”\n",
            "Warning message in to_period(xx, period = on.opts[[period]], ...):\n",
            "“missing values removed from data”\n",
            "Warning message in to_period(xx, period = on.opts[[period]], ...):\n",
            "“missing values removed from data”\n",
            "Warning message in to_period(xx, period = on.opts[[period]], ...):\n",
            "“missing values removed from data”\n",
            "Warning message in to_period(xx, period = on.opts[[period]], ...):\n",
            "“missing values removed from data”\n",
            "Warning message in to_period(xx, period = on.opts[[period]], ...):\n",
            "“missing values removed from data”\n",
            "Warning message in to_period(xx, period = on.opts[[period]], ...):\n",
            "“missing values removed from data”\n",
            "Warning message in to_period(xx, period = on.opts[[period]], ...):\n",
            "“missing values removed from data”\n"
          ]
        }
      ],
      "source": [
        "# Load weekly log returns for all markets, 2017–2020\n",
        "data.env <- readRDS(\"WorldMarkts99_20.RDS\")\n",
        "markets <- ls(data.env)\n",
        "\n",
        "returns <- xts()\n",
        "for (i in seq_along(markets)) {\n",
        "  sym <- markets[i]\n",
        "  adjClose <- Ad(get(sym, envir = data.env))\n",
        "  logRet <- periodReturn(adjClose, period = \"weekly\", type = \"log\")\n",
        "  returns <- merge(returns, logRet)\n",
        "}\n",
        "colnames(returns) <- paste(markets, \".ret\", sep = \"\")\n",
        "returns[is.na(returns)] <- 0\n",
        "returns <- returns[\"2017-01/2020-04\"]\n",
        "\n"
      ]
    },
    {
      "cell_type": "code",
      "execution_count": null,
      "metadata": {
        "id": "Y1Gv6oOSYNuL"
      },
      "outputs": [],
      "source": [
        "# Calculate EMA volatility from squared weekly returns\n",
        "volatility <- xts()\n",
        "ema_window <- 5\n",
        "\n",
        "for (col in colnames(returns)) {\n",
        "  squared_ret <- returns[, col]^2\n",
        "  vol <- EMA(squared_ret, n = ema_window)\n",
        "  volatility <- merge(volatility, vol)\n",
        "}\n",
        "colnames(volatility) <- gsub(\".ret\", \".vol\", colnames(returns))\n",
        "volatility[is.na(volatility)] <- 0\n",
        "volatility <- volatility[\"2017-01/2020-04\"]\n"
      ]
    },
    {
      "cell_type": "code",
      "execution_count": null,
      "metadata": {
        "id": "FpcrWK2ZYX0f"
      },
      "outputs": [],
      "source": [
        "# Load monthly log returns for all markets, 2017–2020\n",
        "monthly_returns <- xts()\n",
        "for (i in seq_along(markets)) {\n",
        "  sym <- markets[i]\n",
        "  adjClose <- Ad(get(sym, envir = data.env))\n",
        "  logRet <- periodReturn(adjClose, period = \"monthly\", type = \"log\")\n",
        "  monthly_returns <- merge(monthly_returns, logRet)\n",
        "}\n",
        "colnames(monthly_returns) <- paste(markets, \".ret\", sep = \"\")\n",
        "monthly_returns[is.na(monthly_returns)] <- 0\n",
        "monthly_returns <- monthly_returns[\"2017-01/2020-04\"]\n",
        "\n"
      ]
    },
    {
      "cell_type": "code",
      "execution_count": null,
      "metadata": {
        "id": "YnQom48BYmJ9"
      },
      "outputs": [],
      "source": [
        "# Calculate EMA volatility from squared monthly returns\n",
        "monthly_volatility <- xts()\n",
        "ema_window <- 3\n",
        "\n",
        "for (col in colnames(monthly_returns)) {\n",
        "  squared_ret <- monthly_returns[, col]^2\n",
        "  vol <- EMA(squared_ret, n = ema_window)\n",
        "  monthly_volatility <- merge(monthly_volatility, vol)\n",
        "}\n",
        "colnames(monthly_volatility) <- gsub(\".ret\", \".vol\", colnames(monthly_returns))\n",
        "monthly_volatility[is.na(monthly_volatility)] <- 0\n",
        "monthly_volatility <- monthly_volatility[\"2017-01/2020-04\"]\n"
      ]
    },
    {
      "cell_type": "code",
      "execution_count": null,
      "metadata": {
        "id": "7IyRF-4IZJL9"
      },
      "outputs": [],
      "source": [
        "# Granger causality (3-lag) for weekly returns\n",
        "n <- ncol(returns)\n",
        "weekly_ret_3lag <- matrix(list(), n, n)\n",
        "rownames(weekly_ret_3lag) <- colnames(returns)\n",
        "colnames(weekly_ret_3lag) <- colnames(returns)\n",
        "\n",
        "for (i in 1:n) {\n",
        "  for (j in 1:n) {\n",
        "    if (i != j) {\n",
        "      vec <- c()\n",
        "      for (lag in 1:3) {\n",
        "        try({\n",
        "          pair_data <- na.omit(cbind(returns[, j], returns[, i]))\n",
        "          colnames(pair_data) <- c(\"y\", \"x\")\n",
        "          gt <- grangertest(y ~ x, order = lag, data = pair_data)\n",
        "          vec <- c(vec, ifelse(gt$`Pr(>F)`[2] < 0.05, 1, 0))\n",
        "        }, silent = TRUE)\n",
        "      }\n",
        "      weekly_ret_3lag[i, j] <- list(vec)\n",
        "    }\n",
        "  }\n",
        "}\n"
      ]
    },
    {
      "cell_type": "code",
      "execution_count": null,
      "metadata": {
        "id": "D4aNS-bgZOwX"
      },
      "outputs": [],
      "source": [
        "# Granger causality (3-lag) for weekly volatility\n",
        "n <- ncol(volatility)\n",
        "weekly_vol_3lag <- matrix(list(), n, n)\n",
        "rownames(weekly_vol_3lag) <- colnames(volatility)\n",
        "colnames(weekly_vol_3lag) <- colnames(volatility)\n",
        "\n",
        "for (i in 1:n) {\n",
        "  for (j in 1:n) {\n",
        "    if (i != j) {\n",
        "      vec <- c()\n",
        "      for (lag in 1:3) {\n",
        "        try({\n",
        "          pair_data <- na.omit(cbind(volatility[, j], volatility[, i]))\n",
        "          colnames(pair_data) <- c(\"y\", \"x\")\n",
        "          gt <- grangertest(y ~ x, order = lag, data = pair_data)\n",
        "          vec <- c(vec, ifelse(gt$`Pr(>F)`[2] < 0.05, 1, 0))\n",
        "        }, silent = TRUE)\n",
        "      }\n",
        "      weekly_vol_3lag[i, j] <- list(vec)\n",
        "    }\n",
        "  }\n",
        "}\n"
      ]
    },
    {
      "cell_type": "code",
      "execution_count": null,
      "metadata": {
        "id": "aFoi8Qr6ZUku"
      },
      "outputs": [],
      "source": [
        "# Granger causality (3-lag) for monthly returns\n",
        "n <- ncol(monthly_returns)\n",
        "monthly_ret_3lag <- matrix(list(), n, n)\n",
        "rownames(monthly_ret_3lag) <- colnames(monthly_returns)\n",
        "colnames(monthly_ret_3lag) <- colnames(monthly_returns)\n",
        "\n",
        "for (i in 1:n) {\n",
        "  for (j in 1:n) {\n",
        "    if (i != j) {\n",
        "      vec <- c()\n",
        "      for (lag in 1:3) {\n",
        "        try({\n",
        "          pair_data <- na.omit(cbind(monthly_returns[, j], monthly_returns[, i]))\n",
        "          colnames(pair_data) <- c(\"y\", \"x\")\n",
        "          gt <- grangertest(y ~ x, order = lag, data = pair_data)\n",
        "          vec <- c(vec, ifelse(gt$`Pr(>F)`[2] < 0.05, 1, 0))\n",
        "        }, silent = TRUE)\n",
        "      }\n",
        "      monthly_ret_3lag[i, j] <- list(vec)\n",
        "    }\n",
        "  }\n",
        "}\n"
      ]
    },
    {
      "cell_type": "code",
      "execution_count": null,
      "metadata": {
        "id": "S5HT268oyVk4"
      },
      "outputs": [],
      "source": [
        "# Granger causality (3-lag) for monthly volatility\n",
        "n <- ncol(monthly_volatility)\n",
        "monthly_vol_3lag <- matrix(list(), n, n)\n",
        "rownames(monthly_vol_3lag) <- colnames(monthly_volatility)\n",
        "colnames(monthly_vol_3lag) <- colnames(monthly_volatility)\n",
        "\n",
        "for (i in 1:n) {\n",
        "  for (j in 1:n) {\n",
        "    if (i != j) {\n",
        "      vec <- c()\n",
        "      for (lag in 1:3) {\n",
        "        try({\n",
        "          pair_data <- na.omit(cbind(monthly_volatility[, j], monthly_volatility[, i]))\n",
        "          colnames(pair_data) <- c(\"y\", \"x\")\n",
        "          gt <- grangertest(y ~ x, order = lag, data = pair_data)\n",
        "          vec <- c(vec, ifelse(gt$`Pr(>F)`[2] < 0.05, 1, 0))\n",
        "        }, silent = TRUE)\n",
        "      }\n",
        "      monthly_vol_3lag[i, j] <- list(vec)\n",
        "    }\n",
        "  }\n",
        "}\n"
      ]
    },
    {
      "cell_type": "code",
      "execution_count": null,
      "metadata": {
        "id": "gKDBVrgG1ruh"
      },
      "outputs": [],
      "source": [
        "# Function to convert 3-lag matrix to a readable (1,0,1) string format\n",
        "format_lag_matrix <- function(lag_mat) {\n",
        "  formatted <- matrix(\"\", nrow = nrow(lag_mat), ncol = ncol(lag_mat))\n",
        "  rownames(formatted) <- rownames(lag_mat)\n",
        "  colnames(formatted) <- colnames(lag_mat)\n",
        "\n",
        "  for (i in 1:nrow(lag_mat)) {\n",
        "    for (j in 1:ncol(lag_mat)) {\n",
        "      if (i == j || is.null(lag_mat[[i, j]])) {\n",
        "        formatted[i, j] <- \"-\"\n",
        "      } else {\n",
        "        formatted[i, j] <- paste0(\"(\", paste(lag_mat[[i, j]], collapse = \",\"), \")\")\n",
        "      }\n",
        "    }\n",
        "  }\n",
        "\n",
        "  return(as.data.frame(formatted))\n",
        "}\n",
        "\n",
        "# Format all four 3-lag causality matrices\n",
        "weekly_ret_table <- format_lag_matrix(weekly_ret_3lag)\n",
        "weekly_vol_table <- format_lag_matrix(weekly_vol_3lag)\n",
        "monthly_ret_table <- format_lag_matrix(monthly_ret_3lag)\n",
        "monthly_vol_table <- format_lag_matrix(monthly_vol_3lag)\n",
        "\n",
        "# Display each table\n",
        "View(weekly_ret_table)\n",
        "View(weekly_vol_table)\n",
        "View(monthly_ret_table)\n",
        "View(monthly_vol_table)\n",
        "\n"
      ]
    },
    {
      "cell_type": "code",
      "execution_count": null,
      "metadata": {
        "id": "cR68fJPxz-DA"
      },
      "outputs": [],
      "source": [
        "install.packages(\"igraph\")\n",
        "library(igraph)\n"
      ]
    },
    {
      "cell_type": "code",
      "execution_count": null,
      "metadata": {
        "id": "dZyMfp6Nz_f-"
      },
      "outputs": [],
      "source": [
        "# Convert causality matrix to edge list for plotting\n",
        "make_edge_list <- function(lag_matrix) {\n",
        "  edges <- data.frame(from = character(), to = character(), stringsAsFactors = FALSE)\n",
        "  for (i in 1:nrow(lag_matrix)) {\n",
        "    for (j in 1:ncol(lag_matrix)) {\n",
        "      if (i != j && !is.null(lag_matrix[[i, j]])) {\n",
        "        if (sum(lag_matrix[[i, j]]) > 0) {\n",
        "          edges <- rbind(edges, data.frame(\n",
        "            from = colnames(lag_matrix)[j],  # Cause\n",
        "            to = rownames(lag_matrix)[i]     # Effect\n",
        "          ))\n",
        "        }\n",
        "      }\n",
        "    }\n",
        "  }\n",
        "  return(edges)\n",
        "}\n",
        "\n",
        "edges_weekly_ret <- make_edge_list(weekly_ret_3lag)\n"
      ]
    },
    {
      "cell_type": "code",
      "execution_count": null,
      "metadata": {
        "id": "2X_arhGU0BtH"
      },
      "outputs": [],
      "source": [
        "# Create igraph object\n",
        "g_ret <- graph_from_data_frame(edges_weekly_ret, directed = TRUE)\n",
        "\n",
        "# Plot the network\n",
        "plot(\n",
        "  g_ret,\n",
        "  vertex.size = 25,\n",
        "  vertex.label.cex = 0.8,\n",
        "  vertex.color = \"skyblue\",\n",
        "  edge.arrow.size = 0.4,\n",
        "  main = \"Weekly Return Causality Network\"\n",
        ")\n",
        "edges_weekly_vol <- make_edge_list(weekly_vol_3lag)\n",
        "plot(graph_from_data_frame(edges_weekly_vol, directed = TRUE), main = \"Weekly Volatility Network\")\n",
        "\n",
        "edges_monthly_ret <- make_edge_list(monthly_ret_3lag)\n",
        "plot(graph_from_data_frame(edges_monthly_ret, directed = TRUE), main = \"Monthly Return Network\")\n",
        "\n",
        "edges_monthly_vol <- make_edge_list(monthly_vol_3lag)\n",
        "plot(graph_from_data_frame(edges_monthly_vol, directed = TRUE), main = \"Monthly Volatility Network\")\n"
      ]
    },
    {
      "cell_type": "markdown",
      "metadata": {
        "id": "7pQ4jKWt36mF"
      },
      "source": [
        "Granger causality analysis at the 5% significance level reveals substantial interdependence between global equity markets, especially in weekly data. Weekly return networks indicate that developed markets like the United States (GSPC), United Kingdom (FTSE), Germany (GDAXI), and Japan (N225) frequently cause movements in emerging markets such as India (BSESN), Mexico (MXX), and Indonesia (JKSE). Volatility causality is even more pervasive than return causality, with the United States Volatility Index (VIX) acting as a global driver of volatility across nearly all markets — consistent with its role as a proxy for global risk aversion.\n",
        "\n",
        "The monthly return network shows far sparser causality, suggesting that return predictability weakens at lower frequencies, though volatility spillovers persist strongly. Notably, contemporaneous correlation appears in many bidirectional relationships (e.g., United Kingdom ↔ Germany, United States ↔ VLIC), reflecting high levels of financial integration across developed markets.\n",
        "\n",
        "These causalities align closely with major economic events during 2017–2020, such as the COVID-19 pandemic, which triggered synchronized spikes in global volatility, as well as US-China trade tensions and Brexit uncertainty, which heightened interconnectedness between major markets. The four directed network graphs clearly illustrate these findings, with central nodes (United States, VIX) exerting widespread influence in both return and volatility networks."
      ]
    }
  ],
  "metadata": {
    "colab": {
      "provenance": []
    },
    "kernelspec": {
      "display_name": "R",
      "name": "ir"
    },
    "language_info": {
      "name": "R"
    }
  },
  "nbformat": 4,
  "nbformat_minor": 0
}