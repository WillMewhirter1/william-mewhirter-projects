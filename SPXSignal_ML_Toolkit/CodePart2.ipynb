{
  "nbformat": 4,
  "nbformat_minor": 0,
  "metadata": {
    "colab": {
      "provenance": [],
      "collapsed_sections": [
        "6llCz4lKi5Kk",
        "jRy7rGNKTuKF",
        "bmdsTwU5EyvY",
        "eC9WjhkOfcBZ",
        "BYEsKNAjgJM_"
      ]
    },
    "kernelspec": {
      "name": "ir",
      "display_name": "R"
    },
    "language_info": {
      "name": "R"
    }
  },
  "cells": [
    {
      "cell_type": "markdown",
      "source": [
        "##Problem 3"
      ],
      "metadata": {
        "id": "Utpm2BHgC0M8"
      }
    },
    {
      "cell_type": "markdown",
      "source": [
        "###Preparation:"
      ],
      "metadata": {
        "id": "6llCz4lKi5Kk"
      }
    },
    {
      "cell_type": "code",
      "source": [
        "install.packages(c(\"xts\", \"quantmod\", \"vars\", \"neuralnet\", \"kernlab\", \"TTR\", \"lubridate\", \"caret\", \"tseries\", \"keras\", \"tensorflow\"))"
      ],
      "metadata": {
        "colab": {
          "base_uri": "https://localhost:8080/"
        },
        "id": "MvMiDfab1F4N",
        "outputId": "946f9497-afb5-4e22-f97a-b93d265e7172"
      },
      "execution_count": null,
      "outputs": [
        {
          "output_type": "stream",
          "name": "stderr",
          "text": [
            "Installing packages into ‘/usr/local/lib/R/site-library’\n",
            "(as ‘lib’ is unspecified)\n",
            "\n"
          ]
        }
      ]
    },
    {
      "cell_type": "code",
      "source": [
        "library(\"TTR\")\n",
        "library(\"lubridate\")\n",
        "library(\"neuralnet\")\n",
        "library(\"kernlab\")\n",
        "library(\"caret\")\n",
        "library(\"tseries\")\n",
        "library(\"keras\")\n",
        "library(\"tensorflow\")"
      ],
      "metadata": {
        "id": "DkMNuIRXScEh"
      },
      "execution_count": null,
      "outputs": []
    },
    {
      "cell_type": "code",
      "source": [
        "library(\"xts\"); library(\"quantmod\");library(\"vars\");"
      ],
      "metadata": {
        "id": "lVjBDZha07pQ"
      },
      "execution_count": null,
      "outputs": []
    },
    {
      "cell_type": "code",
      "execution_count": null,
      "metadata": {
        "colab": {
          "base_uri": "https://localhost:8080/"
        },
        "id": "m1oWaBb7uZAj",
        "outputId": "6d7b25b3-cd39-42f7-d1db-8e4063bd89b5"
      },
      "outputs": [
        {
          "output_type": "stream",
          "name": "stdout",
          "text": [
            "'data.frame':\t1824 obs. of  18 variables:\n",
            " $ yyyymm    : int  187101 187102 187103 187104 187105 187106 187107 187108 187109 187110 ...\n",
            " $ Index     : chr  \"4.44\" \"4.50\" \"4.61\" \"4.74\" ...\n",
            " $ D12       : num  0.26 0.26 0.26 0.26 0.26 0.26 0.26 0.26 0.26 0.26 ...\n",
            " $ E12       : num  0.4 0.4 0.4 0.4 0.4 0.4 0.4 0.4 0.4 0.4 ...\n",
            " $ b.m       : num  NaN NaN NaN NaN NaN NaN NaN NaN NaN NaN ...\n",
            " $ tbl       : num  NaN NaN NaN NaN NaN NaN NaN NaN NaN NaN ...\n",
            " $ AAA       : num  NaN NaN NaN NaN NaN NaN NaN NaN NaN NaN ...\n",
            " $ BAA       : num  NaN NaN NaN NaN NaN NaN NaN NaN NaN NaN ...\n",
            " $ lty       : num  NaN NaN NaN NaN NaN NaN NaN NaN NaN NaN ...\n",
            " $ ntis      : num  NaN NaN NaN NaN NaN NaN NaN NaN NaN NaN ...\n",
            " $ Rfree     : num  NaN 0.00497 0.00453 0.00425 0.00464 ...\n",
            " $ infl      : num  NaN NaN NaN NaN NaN NaN NaN NaN NaN NaN ...\n",
            " $ ltr       : num  NaN NaN NaN NaN NaN NaN NaN NaN NaN NaN ...\n",
            " $ corpr     : num  NaN NaN NaN NaN NaN NaN NaN NaN NaN NaN ...\n",
            " $ svar      : num  NaN NaN NaN NaN NaN NaN NaN NaN NaN NaN ...\n",
            " $ csp       : num  NaN NaN NaN NaN NaN NaN NaN NaN NaN NaN ...\n",
            " $ CRSP_SPvw : num  NaN NaN NaN NaN NaN NaN NaN NaN NaN NaN ...\n",
            " $ CRSP_SPvwx: num  NaN NaN NaN NaN NaN NaN NaN NaN NaN NaN ...\n"
          ]
        }
      ],
      "source": [
        "GYm<-read.csv('goyal-welch2022Monthly.csv',sep=',',header=TRUE)\n",
        "str(GYm)"
      ]
    },
    {
      "cell_type": "code",
      "source": [
        "head(GYm)"
      ],
      "metadata": {
        "colab": {
          "base_uri": "https://localhost:8080/",
          "height": 286
        },
        "id": "xmzDG00O0YDY",
        "outputId": "07ba5a3f-5bee-4433-e1d4-a95f439ddad5"
      },
      "execution_count": null,
      "outputs": [
        {
          "output_type": "display_data",
          "data": {
            "text/html": [
              "<table class=\"dataframe\">\n",
              "<caption>A data.frame: 6 × 18</caption>\n",
              "<thead>\n",
              "\t<tr><th></th><th scope=col>yyyymm</th><th scope=col>Index</th><th scope=col>D12</th><th scope=col>E12</th><th scope=col>b.m</th><th scope=col>tbl</th><th scope=col>AAA</th><th scope=col>BAA</th><th scope=col>lty</th><th scope=col>ntis</th><th scope=col>Rfree</th><th scope=col>infl</th><th scope=col>ltr</th><th scope=col>corpr</th><th scope=col>svar</th><th scope=col>csp</th><th scope=col>CRSP_SPvw</th><th scope=col>CRSP_SPvwx</th></tr>\n",
              "\t<tr><th></th><th scope=col>&lt;int&gt;</th><th scope=col>&lt;chr&gt;</th><th scope=col>&lt;dbl&gt;</th><th scope=col>&lt;dbl&gt;</th><th scope=col>&lt;dbl&gt;</th><th scope=col>&lt;dbl&gt;</th><th scope=col>&lt;dbl&gt;</th><th scope=col>&lt;dbl&gt;</th><th scope=col>&lt;dbl&gt;</th><th scope=col>&lt;dbl&gt;</th><th scope=col>&lt;dbl&gt;</th><th scope=col>&lt;dbl&gt;</th><th scope=col>&lt;dbl&gt;</th><th scope=col>&lt;dbl&gt;</th><th scope=col>&lt;dbl&gt;</th><th scope=col>&lt;dbl&gt;</th><th scope=col>&lt;dbl&gt;</th><th scope=col>&lt;dbl&gt;</th></tr>\n",
              "</thead>\n",
              "<tbody>\n",
              "\t<tr><th scope=row>1</th><td>187101</td><td>4.44</td><td>0.26</td><td>0.4</td><td>NaN</td><td>NaN</td><td>NaN</td><td>NaN</td><td>NaN</td><td>NaN</td><td>     NaN</td><td>NaN</td><td>NaN</td><td>NaN</td><td>NaN</td><td>NaN</td><td>NaN</td><td>NaN</td></tr>\n",
              "\t<tr><th scope=row>2</th><td>187102</td><td>4.50</td><td>0.26</td><td>0.4</td><td>NaN</td><td>NaN</td><td>NaN</td><td>NaN</td><td>NaN</td><td>NaN</td><td>0.004967</td><td>NaN</td><td>NaN</td><td>NaN</td><td>NaN</td><td>NaN</td><td>NaN</td><td>NaN</td></tr>\n",
              "\t<tr><th scope=row>3</th><td>187103</td><td>4.61</td><td>0.26</td><td>0.4</td><td>NaN</td><td>NaN</td><td>NaN</td><td>NaN</td><td>NaN</td><td>NaN</td><td>0.004525</td><td>NaN</td><td>NaN</td><td>NaN</td><td>NaN</td><td>NaN</td><td>NaN</td><td>NaN</td></tr>\n",
              "\t<tr><th scope=row>4</th><td>187104</td><td>4.74</td><td>0.26</td><td>0.4</td><td>NaN</td><td>NaN</td><td>NaN</td><td>NaN</td><td>NaN</td><td>NaN</td><td>0.004252</td><td>NaN</td><td>NaN</td><td>NaN</td><td>NaN</td><td>NaN</td><td>NaN</td><td>NaN</td></tr>\n",
              "\t<tr><th scope=row>5</th><td>187105</td><td>4.86</td><td>0.26</td><td>0.4</td><td>NaN</td><td>NaN</td><td>NaN</td><td>NaN</td><td>NaN</td><td>NaN</td><td>0.004643</td><td>NaN</td><td>NaN</td><td>NaN</td><td>NaN</td><td>NaN</td><td>NaN</td><td>NaN</td></tr>\n",
              "\t<tr><th scope=row>6</th><td>187106</td><td>4.82</td><td>0.26</td><td>0.4</td><td>NaN</td><td>NaN</td><td>NaN</td><td>NaN</td><td>NaN</td><td>NaN</td><td>0.003698</td><td>NaN</td><td>NaN</td><td>NaN</td><td>NaN</td><td>NaN</td><td>NaN</td><td>NaN</td></tr>\n",
              "</tbody>\n",
              "</table>\n"
            ],
            "text/markdown": "\nA data.frame: 6 × 18\n\n| <!--/--> | yyyymm &lt;int&gt; | Index &lt;chr&gt; | D12 &lt;dbl&gt; | E12 &lt;dbl&gt; | b.m &lt;dbl&gt; | tbl &lt;dbl&gt; | AAA &lt;dbl&gt; | BAA &lt;dbl&gt; | lty &lt;dbl&gt; | ntis &lt;dbl&gt; | Rfree &lt;dbl&gt; | infl &lt;dbl&gt; | ltr &lt;dbl&gt; | corpr &lt;dbl&gt; | svar &lt;dbl&gt; | csp &lt;dbl&gt; | CRSP_SPvw &lt;dbl&gt; | CRSP_SPvwx &lt;dbl&gt; |\n|---|---|---|---|---|---|---|---|---|---|---|---|---|---|---|---|---|---|---|\n| 1 | 187101 | 4.44 | 0.26 | 0.4 | NaN | NaN | NaN | NaN | NaN | NaN |      NaN | NaN | NaN | NaN | NaN | NaN | NaN | NaN |\n| 2 | 187102 | 4.50 | 0.26 | 0.4 | NaN | NaN | NaN | NaN | NaN | NaN | 0.004967 | NaN | NaN | NaN | NaN | NaN | NaN | NaN |\n| 3 | 187103 | 4.61 | 0.26 | 0.4 | NaN | NaN | NaN | NaN | NaN | NaN | 0.004525 | NaN | NaN | NaN | NaN | NaN | NaN | NaN |\n| 4 | 187104 | 4.74 | 0.26 | 0.4 | NaN | NaN | NaN | NaN | NaN | NaN | 0.004252 | NaN | NaN | NaN | NaN | NaN | NaN | NaN |\n| 5 | 187105 | 4.86 | 0.26 | 0.4 | NaN | NaN | NaN | NaN | NaN | NaN | 0.004643 | NaN | NaN | NaN | NaN | NaN | NaN | NaN |\n| 6 | 187106 | 4.82 | 0.26 | 0.4 | NaN | NaN | NaN | NaN | NaN | NaN | 0.003698 | NaN | NaN | NaN | NaN | NaN | NaN | NaN |\n\n",
            "text/latex": "A data.frame: 6 × 18\n\\begin{tabular}{r|llllllllllllllllll}\n  & yyyymm & Index & D12 & E12 & b.m & tbl & AAA & BAA & lty & ntis & Rfree & infl & ltr & corpr & svar & csp & CRSP\\_SPvw & CRSP\\_SPvwx\\\\\n  & <int> & <chr> & <dbl> & <dbl> & <dbl> & <dbl> & <dbl> & <dbl> & <dbl> & <dbl> & <dbl> & <dbl> & <dbl> & <dbl> & <dbl> & <dbl> & <dbl> & <dbl>\\\\\n\\hline\n\t1 & 187101 & 4.44 & 0.26 & 0.4 & NaN & NaN & NaN & NaN & NaN & NaN &      NaN & NaN & NaN & NaN & NaN & NaN & NaN & NaN\\\\\n\t2 & 187102 & 4.50 & 0.26 & 0.4 & NaN & NaN & NaN & NaN & NaN & NaN & 0.004967 & NaN & NaN & NaN & NaN & NaN & NaN & NaN\\\\\n\t3 & 187103 & 4.61 & 0.26 & 0.4 & NaN & NaN & NaN & NaN & NaN & NaN & 0.004525 & NaN & NaN & NaN & NaN & NaN & NaN & NaN\\\\\n\t4 & 187104 & 4.74 & 0.26 & 0.4 & NaN & NaN & NaN & NaN & NaN & NaN & 0.004252 & NaN & NaN & NaN & NaN & NaN & NaN & NaN\\\\\n\t5 & 187105 & 4.86 & 0.26 & 0.4 & NaN & NaN & NaN & NaN & NaN & NaN & 0.004643 & NaN & NaN & NaN & NaN & NaN & NaN & NaN\\\\\n\t6 & 187106 & 4.82 & 0.26 & 0.4 & NaN & NaN & NaN & NaN & NaN & NaN & 0.003698 & NaN & NaN & NaN & NaN & NaN & NaN & NaN\\\\\n\\end{tabular}\n",
            "text/plain": [
              "  yyyymm Index D12  E12 b.m tbl AAA BAA lty ntis Rfree    infl ltr corpr svar\n",
              "1 187101 4.44  0.26 0.4 NaN NaN NaN NaN NaN NaN       NaN NaN  NaN NaN   NaN \n",
              "2 187102 4.50  0.26 0.4 NaN NaN NaN NaN NaN NaN  0.004967 NaN  NaN NaN   NaN \n",
              "3 187103 4.61  0.26 0.4 NaN NaN NaN NaN NaN NaN  0.004525 NaN  NaN NaN   NaN \n",
              "4 187104 4.74  0.26 0.4 NaN NaN NaN NaN NaN NaN  0.004252 NaN  NaN NaN   NaN \n",
              "5 187105 4.86  0.26 0.4 NaN NaN NaN NaN NaN NaN  0.004643 NaN  NaN NaN   NaN \n",
              "6 187106 4.82  0.26 0.4 NaN NaN NaN NaN NaN NaN  0.003698 NaN  NaN NaN   NaN \n",
              "  csp CRSP_SPvw CRSP_SPvwx\n",
              "1 NaN NaN       NaN       \n",
              "2 NaN NaN       NaN       \n",
              "3 NaN NaN       NaN       \n",
              "4 NaN NaN       NaN       \n",
              "5 NaN NaN       NaN       \n",
              "6 NaN NaN       NaN       "
            ]
          },
          "metadata": {}
        }
      ]
    },
    {
      "cell_type": "code",
      "source": [
        "##Index is char must change to numeric\n",
        "GYm$Index = as.numeric(GYm$Index)\n",
        "#2. convert yyyymm to Date format\n",
        "GYm$yyyymm <-ym(GYm$yyyymm) ##ym()\n",
        "##note GYm$yyyymm is char and to convert to xts cannot be part of data or else make all char (as xts can only be of one type)\n",
        "GYm <- as.xts(GYm[-1],order.by = GYm$yyyymm)\n",
        "head(GYm)"
      ],
      "metadata": {
        "colab": {
          "base_uri": "https://localhost:8080/",
          "height": 295
        },
        "id": "YSU8aAFc0UI_",
        "outputId": "fd765dda-6903-427e-e918-f4b0578597a2"
      },
      "execution_count": null,
      "outputs": [
        {
          "output_type": "stream",
          "name": "stderr",
          "text": [
            "Warning message:\n",
            "“NAs introduced by coercion”\n"
          ]
        },
        {
          "output_type": "display_data",
          "data": {
            "text/plain": [
              "           Index  D12 E12 b.m tbl AAA BAA lty ntis    Rfree infl ltr corpr svar\n",
              "1871-01-01  4.44 0.26 0.4 NaN NaN NaN NaN NaN  NaN      NaN  NaN NaN   NaN  NaN\n",
              "1871-02-01  4.50 0.26 0.4 NaN NaN NaN NaN NaN  NaN 0.004967  NaN NaN   NaN  NaN\n",
              "1871-03-01  4.61 0.26 0.4 NaN NaN NaN NaN NaN  NaN 0.004525  NaN NaN   NaN  NaN\n",
              "1871-04-01  4.74 0.26 0.4 NaN NaN NaN NaN NaN  NaN 0.004252  NaN NaN   NaN  NaN\n",
              "1871-05-01  4.86 0.26 0.4 NaN NaN NaN NaN NaN  NaN 0.004643  NaN NaN   NaN  NaN\n",
              "1871-06-01  4.82 0.26 0.4 NaN NaN NaN NaN NaN  NaN 0.003698  NaN NaN   NaN  NaN\n",
              "           csp CRSP_SPvw CRSP_SPvwx\n",
              "1871-01-01 NaN       NaN        NaN\n",
              "1871-02-01 NaN       NaN        NaN\n",
              "1871-03-01 NaN       NaN        NaN\n",
              "1871-04-01 NaN       NaN        NaN\n",
              "1871-05-01 NaN       NaN        NaN\n",
              "1871-06-01 NaN       NaN        NaN"
            ]
          },
          "metadata": {}
        }
      ]
    },
    {
      "cell_type": "code",
      "source": [
        "mt=GYm['1927/2021']\n",
        "\n",
        "head(mt)"
      ],
      "metadata": {
        "colab": {
          "base_uri": "https://localhost:8080/",
          "height": 382
        },
        "id": "3_JKo0Ij3M1E",
        "outputId": "0e83eab9-14b4-412c-a0e7-401cd8603297"
      },
      "execution_count": null,
      "outputs": [
        {
          "output_type": "display_data",
          "data": {
            "text/plain": [
              "           Index    D12   E12       b.m    tbl    AAA    BAA    lty       ntis\n",
              "1927-01-01 13.21 0.6967 1.229 0.4437056 0.0323 0.0466 0.0561 0.0351 0.05082378\n",
              "1927-02-01 13.84 0.7033 1.218 0.4285009 0.0329 0.0467 0.0559 0.0347 0.05166764\n",
              "1927-03-01 13.93 0.7100 1.208 0.4697651 0.0320 0.0462 0.0554 0.0331 0.04635658\n",
              "1927-04-01 14.17 0.7167 1.197 0.4567541 0.0339 0.0458 0.0548 0.0333 0.05051402\n",
              "1927-05-01 14.91 0.7233 1.186 0.4347826 0.0333 0.0457 0.0550 0.0327 0.05527539\n",
              "1927-06-01 14.77 0.7300 1.175 0.4523852 0.0307 0.0458 0.0555 0.0334 0.05882192\n",
              "            Rfree         infl     ltr   corpr         svar csp CRSP_SPvw\n",
              "1927-01-01 0.0025 -0.011299435  0.0075  0.0056 0.0004698947 NaN -0.002910\n",
              "1927-02-01 0.0026 -0.005714286  0.0088  0.0069 0.0002873343 NaN  0.045522\n",
              "1927-03-01 0.0030 -0.005747126  0.0253  0.0083 0.0009241928 NaN  0.007324\n",
              "1927-04-01 0.0025  0.000000000 -0.0005  0.0055 0.0006025886 NaN  0.013021\n",
              "1927-05-01 0.0030  0.005780347  0.0109 -0.0011 0.0003917338 NaN  0.062353\n",
              "1927-06-01 0.0026  0.011494253 -0.0069  0.0043 0.0008245770 NaN -0.020370\n",
              "           CRSP_SPvwx\n",
              "1927-01-01  -0.005579\n",
              "1927-02-01   0.040566\n",
              "1927-03-01   0.002610\n",
              "1927-04-01   0.010907\n",
              "1927-05-01   0.057096\n",
              "1927-06-01  -0.025705"
            ]
          },
          "metadata": {}
        }
      ]
    },
    {
      "cell_type": "code",
      "source": [
        "# The features we are allowed to work with are de, ep and tbl\n",
        "\n",
        "# de - dividend payout ratio  (D12 / E12  =  Dividend / Earnings)\n",
        "# ep - earning to price ratio (E12 / Index = Earnings / Price)\n",
        "# tbl - treasury bill rate"
      ],
      "metadata": {
        "id": "SbJu17fH2lBi"
      },
      "execution_count": null,
      "outputs": []
    },
    {
      "cell_type": "code",
      "source": [
        "#compute target - log returns of S&P500\n",
        "\n",
        "logret =diff(log(mt$Index))"
      ],
      "metadata": {
        "id": "ED9M9bH32bSl"
      },
      "execution_count": null,
      "outputs": []
    },
    {
      "cell_type": "code",
      "source": [
        "# dividend-payout ratio (de)\n",
        "de <- log(mt$D12) - log(mt$E12)\n",
        "\n",
        "# earnings to price\n",
        "ep <- log(mt$E12) - log(mt$Index)\n",
        "\n",
        "# Treasury Bill rates (tbl, 1920)\n",
        "tbl <- mt$tbl"
      ],
      "metadata": {
        "id": "BJAzMOpx4VUz"
      },
      "execution_count": null,
      "outputs": []
    },
    {
      "cell_type": "code",
      "source": [
        "names(logret) = \"logret\";\n",
        "names(de) = \"de\";\n",
        "names(ep) = \"ep\";\n",
        "names(tbl) = \"tbl\";"
      ],
      "metadata": {
        "id": "AZf72RP5CUE7"
      },
      "execution_count": null,
      "outputs": []
    },
    {
      "cell_type": "code",
      "source": [
        "#dataset <- na.omit(merge(logret, de, ep, tbl))\n",
        "dataset <- merge(logret, de, ep, tbl)"
      ],
      "metadata": {
        "id": "N8Dr_hf558AJ"
      },
      "execution_count": null,
      "outputs": []
    },
    {
      "cell_type": "code",
      "source": [
        "head(dataset)\n",
        "\n",
        "summary(dataset)"
      ],
      "metadata": {
        "colab": {
          "base_uri": "https://localhost:8080/",
          "height": 416
        },
        "id": "5AgWTl_86GUW",
        "outputId": "f055647d-4c3e-4c76-b6d0-46d4954031c0"
      },
      "execution_count": null,
      "outputs": [
        {
          "output_type": "display_data",
          "data": {
            "text/plain": [
              "                 logret         de        ep    tbl\n",
              "1927-01-01           NA -0.5676012 -2.374773 0.0323\n",
              "1927-02-01  0.046588832 -0.5491819 -2.430353 0.0329\n",
              "1927-03-01  0.006481838 -0.5314564 -2.445079 0.0320\n",
              "1927-04-01  0.017082266 -0.5129164 -2.471309 0.0339\n",
              "1927-05-01  0.050905075 -0.4945175 -2.531446 0.0333\n",
              "1927-06-01 -0.009434032 -0.4759789 -2.531330 0.0307"
            ]
          },
          "metadata": {}
        },
        {
          "output_type": "display_data",
          "data": {
            "text/plain": [
              "     Index                logret                de                ep        \n",
              " Min.   :1927-01-01   Min.   :-0.355851   Min.   :-1.2442   Min.   :-4.836  \n",
              " 1st Qu.:1950-09-23   1st Qu.:-0.020218   1st Qu.:-0.8666   1st Qu.:-2.891  \n",
              " Median :1974-06-16   Median : 0.009049   Median :-0.6329   Median :-2.697  \n",
              " Mean   :1974-06-16   Mean   : 0.004950   Mean   :-0.6432   Mean   :-2.650  \n",
              " 3rd Qu.:1998-03-08   3rd Qu.: 0.036285   3rd Qu.:-0.5015   3rd Qu.:-2.374  \n",
              " Max.   :2021-12-01   Max.   : 0.352221   Max.   : 1.3795   Max.   :-1.775  \n",
              "                      NA's   :266                           NA's   :261     \n",
              "      tbl         \n",
              " Min.   :0.00010  \n",
              " 1st Qu.:0.00380  \n",
              " Median :0.02790  \n",
              " Mean   :0.03307  \n",
              " 3rd Qu.:0.05090  \n",
              " Max.   :0.16300  \n",
              "                  "
            ]
          },
          "metadata": {}
        }
      ]
    },
    {
      "cell_type": "code",
      "source": [
        "plot(dataset)"
      ],
      "metadata": {
        "colab": {
          "base_uri": "https://localhost:8080/",
          "height": 437
        },
        "id": "ABdmzKN-5qbG",
        "outputId": "d465d0b7-1849-48b8-e1ca-17bab75cc5a7"
      },
      "execution_count": null,
      "outputs": [
        {
          "output_type": "display_data",
          "data": {
            "text/plain": [
              "plot without title"
            ],
            "image/png": "[encoded data removed]"
          },
          "metadata": {
            "image/png": {
              "width": 420,
              "height": 420
            }
          }
        }
      ]
    },
    {
      "cell_type": "code",
      "source": [
        "# Create lags\n",
        "lagged_dataset <- merge(\n",
        "  dataset,\n",
        "  lag.xts(dataset$de, 1), lag.xts(dataset$de, 2), lag.xts(dataset$de, 3),\n",
        "  lag.xts(dataset$de, 4), lag.xts(dataset$de, 5), lag.xts(dataset$de, 6),\n",
        "  lag.xts(dataset$de, 7), lag.xts(dataset$de, 8), lag.xts(dataset$de, 9),\n",
        "  lag.xts(dataset$de, 10), lag.xts(dataset$de, 11), lag.xts(dataset$de, 12),\n",
        "  lag.xts(dataset$ep, 1), lag.xts(dataset$ep, 2), lag.xts(dataset$ep, 3),\n",
        "  lag.xts(dataset$ep, 4), lag.xts(dataset$ep, 5), lag.xts(dataset$ep, 6),\n",
        "  lag.xts(dataset$ep, 7), lag.xts(dataset$ep, 8), lag.xts(dataset$ep, 9),\n",
        "  lag.xts(dataset$ep, 10), lag.xts(dataset$ep, 11), lag.xts(dataset$ep, 12),\n",
        "  lag.xts(dataset$tbl, 1), lag.xts(dataset$tbl, 2), lag.xts(dataset$tbl, 3),\n",
        "  lag.xts(dataset$tbl, 4), lag.xts(dataset$tbl, 5), lag.xts(dataset$tbl, 6),\n",
        "  lag.xts(dataset$tbl, 7), lag.xts(dataset$tbl, 8), lag.xts(dataset$tbl, 9),\n",
        "  lag.xts(dataset$tbl, 10), lag.xts(dataset$tbl, 11), lag.xts(dataset$tbl, 12),\n",
        "  lag.xts(dataset$logret, 1), lag.xts(dataset$logret, 2), lag.xts(dataset$logret, 3),\n",
        "  lag.xts(dataset$logret, 4), lag.xts(dataset$logret, 5), lag.xts(dataset$logret, 6),\n",
        "  lag.xts(dataset$logret, 7), lag.xts(dataset$logret, 8), lag.xts(dataset$logret, 9),\n",
        "  lag.xts(dataset$logret, 10), lag.xts(dataset$logret, 11), lag.xts(dataset$logret, 12),\n",
        "  all = FALSE\n",
        ")\n",
        "\n",
        "colnames(lagged_dataset) <- c(\"logret\", \"de\", \"ep\", \"tbl\",\n",
        "                              \"de_lag1\", \"de_lag2\", \"de_lag3\",\n",
        "                              \"de_lag4\", \"de_lag5\", \"de_lag6\",\n",
        "                              \"de_lag7\", \"de_lag8\", \"de_lag9\",\n",
        "                              \"de_lag10\", \"de_lag11\", \"de_lag12\",\n",
        "                              \"ep_lag1\", \"ep_lag2\", \"ep_lag3\",\n",
        "                              \"ep_lag4\", \"ep_lag5\", \"ep_lag6\",\n",
        "                              \"ep_lag7\", \"ep_lag8\", \"ep_lag9\",\n",
        "                              \"ep_lag10\", \"ep_lag11\", \"ep_lag12\",\n",
        "                              \"tbl_lag1\", \"tbl_lag2\", \"tbl_lag3\",\n",
        "                              \"tbl_lag4\", \"tbl_lag5\", \"tbl_lag6\",\n",
        "                              \"tbl_lag7\", \"tbl_lag8\", \"tbl_lag9\",\n",
        "                              \"tbl_lag10\", \"tbl_lag11\", \"tbl_lag12\",\n",
        "                              \"logret_lag1\", \"logret_lag2\", \"logret_lag3\",\n",
        "                              \"logret_lag4\", \"logret_lag5\", \"logret_lag6\",\n",
        "                              \"logret_lag7\", \"logret_lag8\", \"logret_lag9\",\n",
        "                              \"logret_lag10\", \"logret_lag11\", \"logret_lag12\")\n",
        "\n"
      ],
      "metadata": {
        "id": "7NCjXpNFDmiF"
      },
      "execution_count": null,
      "outputs": []
    },
    {
      "cell_type": "code",
      "source": [
        "lagged_dataset <- na.omit(lagged_dataset)\n",
        "head(lagged_dataset)"
      ],
      "metadata": {
        "colab": {
          "base_uri": "https://localhost:8080/",
          "height": 1000
        },
        "id": "bsnasleeESQ4",
        "outputId": "9e833b34-ae5c-48e6-ac1a-cce63b356f48"
      },
      "execution_count": null,
      "outputs": [
        {
          "output_type": "display_data",
          "data": {
            "text/plain": [
              "                logret         de        ep    tbl    de_lag1    de_lag2\n",
              "1928-02-01 -0.01780122 -0.3883399 -2.704291 0.0333 -0.3775701 -0.3657248\n",
              "1928-03-01  0.10286610 -0.3986912 -2.788289 0.0327 -0.3883399 -0.3775701\n",
              "1928-04-01  0.03189571 -0.4095986 -2.800832 0.0362 -0.3986912 -0.3883399\n",
              "1928-05-01  0.01257878 -0.4195159 -2.795243 0.0390 -0.4095986 -0.3986912\n",
              "1928-06-01 -0.04134296 -0.4298566 -2.735254 0.0392 -0.4195159 -0.4095986\n",
              "1928-07-01  0.01242895 -0.4399243 -2.729377 0.0412 -0.4298566 -0.4195159\n",
              "              de_lag3    de_lag4    de_lag5    de_lag6    de_lag7    de_lag8\n",
              "1928-02-01 -0.3843253 -0.4027744 -0.4213385 -0.4390228 -0.4574369 -0.4759789\n",
              "1928-03-01 -0.3657248 -0.3843253 -0.4027744 -0.4213385 -0.4390228 -0.4574369\n",
              "1928-04-01 -0.3775701 -0.3657248 -0.3843253 -0.4027744 -0.4213385 -0.4390228\n",
              "1928-05-01 -0.3883399 -0.3775701 -0.3657248 -0.3843253 -0.4027744 -0.4213385\n",
              "1928-06-01 -0.3986912 -0.3883399 -0.3775701 -0.3657248 -0.3843253 -0.4027744\n",
              "1928-07-01 -0.4095986 -0.3986912 -0.3883399 -0.3775701 -0.3657248 -0.3843253\n",
              "              de_lag9   de_lag10   de_lag11   de_lag12   ep_lag1   ep_lag2\n",
              "1928-02-01 -0.4945175 -0.5129164 -0.5314564 -0.5491819 -2.741324 -2.766942\n",
              "1928-03-01 -0.4759789 -0.4945175 -0.5129164 -0.5314564 -2.704291 -2.741324\n",
              "1928-04-01 -0.4574369 -0.4759789 -0.4945175 -0.5129164 -2.788289 -2.704291\n",
              "1928-05-01 -0.4390228 -0.4574369 -0.4759789 -0.4945175 -2.800832 -2.788289\n",
              "1928-06-01 -0.4213385 -0.4390228 -0.4574369 -0.4759789 -2.795243 -2.800832\n",
              "1928-07-01 -0.4027744 -0.4213385 -0.4390228 -0.4574369 -2.735254 -2.795243\n",
              "             ep_lag3   ep_lag4   ep_lag5   ep_lag6   ep_lag7   ep_lag8\n",
              "1928-02-01 -2.738218 -2.662875 -2.707759 -2.656742 -2.603707 -2.531330\n",
              "1928-03-01 -2.766942 -2.738218 -2.662875 -2.707759 -2.656742 -2.603707\n",
              "1928-04-01 -2.741324 -2.766942 -2.738218 -2.662875 -2.707759 -2.656742\n",
              "1928-05-01 -2.704291 -2.741324 -2.766942 -2.738218 -2.662875 -2.707759\n",
              "1928-06-01 -2.788289 -2.704291 -2.741324 -2.766942 -2.738218 -2.662875\n",
              "1928-07-01 -2.800832 -2.788289 -2.704291 -2.741324 -2.766942 -2.738218\n",
              "             ep_lag9  ep_lag10  ep_lag11  ep_lag12 tbl_lag1 tbl_lag2 tbl_lag3\n",
              "1928-02-01 -2.531446 -2.471309 -2.445079 -2.430353   0.0331   0.0317   0.0304\n",
              "1928-03-01 -2.531330 -2.531446 -2.471309 -2.445079   0.0333   0.0331   0.0317\n",
              "1928-04-01 -2.603707 -2.531330 -2.531446 -2.471309   0.0327   0.0333   0.0331\n",
              "1928-05-01 -2.656742 -2.603707 -2.531330 -2.531446   0.0362   0.0327   0.0333\n",
              "1928-06-01 -2.707759 -2.656742 -2.603707 -2.531330   0.0390   0.0362   0.0327\n",
              "1928-07-01 -2.662875 -2.707759 -2.656742 -2.603707   0.0392   0.0390   0.0362\n",
              "           tbl_lag4 tbl_lag5 tbl_lag6 tbl_lag7 tbl_lag8 tbl_lag9 tbl_lag10\n",
              "1928-02-01   0.0308   0.0268   0.0270   0.0296   0.0307   0.0333    0.0339\n",
              "1928-03-01   0.0304   0.0308   0.0268   0.0270   0.0296   0.0307    0.0333\n",
              "1928-04-01   0.0317   0.0304   0.0308   0.0268   0.0270   0.0296    0.0307\n",
              "1928-05-01   0.0331   0.0317   0.0304   0.0308   0.0268   0.0270    0.0296\n",
              "1928-06-01   0.0333   0.0331   0.0317   0.0304   0.0308   0.0268    0.0270\n",
              "1928-07-01   0.0327   0.0333   0.0331   0.0317   0.0304   0.0308    0.0268\n",
              "           tbl_lag11 tbl_lag12  logret_lag1  logret_lag2  logret_lag3\n",
              "1928-02-01    0.0320    0.0329 -0.005109293  0.018863091  0.065577722\n",
              "1928-03-01    0.0339    0.0320 -0.017801217 -0.005109293  0.018863091\n",
              "1928-04-01    0.0333    0.0339  0.102866098 -0.017801217 -0.005109293\n",
              "1928-05-01    0.0307    0.0333  0.031895708  0.102866098 -0.017801217\n",
              "1928-06-01    0.0296    0.0307  0.012578782  0.031895708  0.102866098\n",
              "1928-07-01    0.0270    0.0296 -0.041342964  0.012578782  0.031895708\n",
              "            logret_lag4  logret_lag5  logret_lag6 logret_lag7  logret_lag8\n",
              "1928-02-01 -0.054553532  0.042305981  0.043539215  0.06297162 -0.009434032\n",
              "1928-03-01  0.065577722 -0.054553532  0.042305981  0.04353921  0.062971621\n",
              "1928-04-01  0.018863091  0.065577722 -0.054553532  0.04230598  0.043539215\n",
              "1928-05-01 -0.005109293  0.018863091  0.065577722 -0.05455353  0.042305981\n",
              "1928-06-01 -0.017801217 -0.005109293  0.018863091  0.06557772 -0.054553532\n",
              "1928-07-01  0.102866098 -0.017801217 -0.005109293  0.01886309  0.065577722\n",
              "            logret_lag9 logret_lag10 logret_lag11 logret_lag12\n",
              "1928-02-01  0.050905075  0.017082266  0.006481838  0.046588832\n",
              "1928-03-01 -0.009434032  0.050905075  0.017082266  0.006481838\n",
              "1928-04-01  0.062971621 -0.009434032  0.050905075  0.017082266\n",
              "1928-05-01  0.043539215  0.062971621 -0.009434032  0.050905075\n",
              "1928-06-01  0.042305981  0.043539215  0.062971621 -0.009434032\n",
              "1928-07-01 -0.054553532  0.042305981  0.043539215  0.062971621"
            ]
          },
          "metadata": {}
        }
      ]
    },
    {
      "cell_type": "code",
      "source": [
        "#splitting data into test and train\n",
        "\n",
        "set.seed(123)\n",
        "\n",
        "n <- nrow(lagged_dataset)\n",
        "train_idx <- 1:floor(0.7 * n)\n",
        "test_idx <- (floor(0.7 * n) + 1):n\n",
        "\n",
        "training <- lagged_dataset[train_idx, ]\n",
        "testing <- lagged_dataset[test_idx, ]"
      ],
      "metadata": {
        "id": "etQcXSnFCoPP"
      },
      "execution_count": null,
      "outputs": []
    },
    {
      "cell_type": "markdown",
      "source": [
        "###Feature Selection:"
      ],
      "metadata": {
        "id": "jRy7rGNKTuKF"
      }
    },
    {
      "cell_type": "code",
      "source": [
        "#custom dcor function because somehow I couldn't install package 'energy'\n",
        "\n",
        "dcor <- function(x, y) {\n",
        "  n <- length(x)\n",
        "  a <- as.matrix(dist(x))\n",
        "  b <- as.matrix(dist(y))\n",
        "\n",
        "  A <- a - rowMeans(a) - colMeans(a) + mean(a)\n",
        "  B <- b - rowMeans(b) - colMeans(b) + mean(b)\n",
        "\n",
        "  dCovXY <- sum(A * B) / (n^2)\n",
        "  dVarX <- sum(A * A) / (n^2)\n",
        "  dVarY <- sum(B * B) / (n^2)\n",
        "\n",
        "  sqrt(dCovXY) / sqrt(sqrt(dVarX) * sqrt(dVarY))\n",
        "}"
      ],
      "metadata": {
        "id": "InIiFyK-WS7x"
      },
      "execution_count": null,
      "outputs": []
    },
    {
      "cell_type": "code",
      "source": [
        "#Distance Correlation\n",
        "\n",
        "# Separate predictors from target\n",
        "predictors <- training[, -1]  # remove 'logret' column\n",
        "target <- training$logret\n",
        "\n",
        "# Calculate distance correlation for each predictor\n",
        "dcor_results <- sapply(predictors, function(x) dcor(x, target))\n",
        "\n",
        "print(round(dcor_results, 3))\n",
        "\n",
        "# This will give a list of predictors based on how much they are associated with logret (even if nonlinear)"
      ],
      "metadata": {
        "colab": {
          "base_uri": "https://localhost:8080/"
        },
        "id": "a-2Lh3jKTwyi",
        "outputId": "98911512-b8c8-4da0-f469-5097d88ba030"
      },
      "execution_count": null,
      "outputs": [
        {
          "output_type": "stream",
          "name": "stderr",
          "text": [
            "Warning message in sqrt(dCovXY):\n",
            "“NaNs produced”\n",
            "Warning message in sqrt(dCovXY):\n",
            "“NaNs produced”\n",
            "Warning message in sqrt(dCovXY):\n",
            "“NaNs produced”\n",
            "Warning message in sqrt(dCovXY):\n",
            "“NaNs produced”\n",
            "Warning message in sqrt(dCovXY):\n",
            "“NaNs produced”\n",
            "Warning message in sqrt(dCovXY):\n",
            "“NaNs produced”\n",
            "Warning message in sqrt(dCovXY):\n",
            "“NaNs produced”\n",
            "Warning message in sqrt(dCovXY):\n",
            "“NaNs produced”\n",
            "Warning message in sqrt(dCovXY):\n",
            "“NaNs produced”\n",
            "Warning message in sqrt(dCovXY):\n",
            "“NaNs produced”\n"
          ]
        },
        {
          "output_type": "stream",
          "name": "stdout",
          "text": [
            "          de           ep          tbl      de_lag1      de_lag2      de_lag3 \n",
            "       0.589        0.098        0.138        0.585        0.582        0.580 \n",
            "     de_lag4      de_lag5      de_lag6      de_lag7      de_lag8      de_lag9 \n",
            "       0.579        0.576        0.570        0.564        0.558        0.553 \n",
            "    de_lag10     de_lag11     de_lag12      ep_lag1      ep_lag2      ep_lag3 \n",
            "       0.545        0.534        0.523        0.032        0.072          NaN \n",
            "     ep_lag4      ep_lag5      ep_lag6      ep_lag7      ep_lag8      ep_lag9 \n",
            "         NaN          NaN          NaN          NaN          NaN          NaN \n",
            "    ep_lag10     ep_lag11     ep_lag12     tbl_lag1     tbl_lag2     tbl_lag3 \n",
            "         NaN          NaN          NaN        0.129        0.150        0.144 \n",
            "    tbl_lag4     tbl_lag5     tbl_lag6     tbl_lag7     tbl_lag8     tbl_lag9 \n",
            "       0.139        0.135        0.097        0.090        0.088        0.093 \n",
            "   tbl_lag10    tbl_lag11    tbl_lag12  logret_lag1  logret_lag2  logret_lag3 \n",
            "       0.085        0.090        0.089        0.459        0.463        0.519 \n",
            " logret_lag4  logret_lag5  logret_lag6  logret_lag7  logret_lag8  logret_lag9 \n",
            "       0.431        0.383        0.439        0.441        0.487        0.466 \n",
            "logret_lag10 logret_lag11 logret_lag12 \n",
            "       0.433        0.527        0.439 \n"
          ]
        }
      ]
    },
    {
      "cell_type": "code",
      "source": [
        "library(lmtest)"
      ],
      "metadata": {
        "id": "AfH0KF7kAcxc"
      },
      "execution_count": null,
      "outputs": []
    },
    {
      "cell_type": "code",
      "source": [
        "#Granger Causality\n",
        "\n",
        "# Variables to test\n",
        "var_names <- colnames(training)[-1]\n",
        "\n",
        "# Run Granger causality tests with 12 lags\n",
        "granger_results <- sapply(var_names, function(var) {\n",
        "  p_value <- tryCatch({\n",
        "    formula <- as.formula(paste(\"logret ~\", var))\n",
        "    test_result <- grangertest(formula, order = 12, data = training)\n",
        "    test_result$`Pr(>F)`[2]  # p-value for predictor\n",
        "  }, error = function(e) NA)\n",
        "  return(p_value)\n",
        "})\n",
        "\n",
        "# Clean and sort\n",
        "print(round(granger_results, 4))"
      ],
      "metadata": {
        "colab": {
          "base_uri": "https://localhost:8080/"
        },
        "id": "-LuzwNZTA4yB",
        "outputId": "5007c109-fd14-46e0-e8ba-6044bb251539"
      },
      "execution_count": null,
      "outputs": [
        {
          "output_type": "stream",
          "name": "stdout",
          "text": [
            "          de           ep          tbl      de_lag1      de_lag2      de_lag3 \n",
            "      0.0169       0.4113       0.2479       0.0212       0.0231       0.0236 \n",
            "     de_lag4      de_lag5      de_lag6      de_lag7      de_lag8      de_lag9 \n",
            "      0.0142       0.0296       0.0424       0.0893       0.3458       0.5959 \n",
            "    de_lag10     de_lag11     de_lag12      ep_lag1      ep_lag2      ep_lag3 \n",
            "      0.4564       0.8386       0.8271       0.3352       0.2518       0.0858 \n",
            "     ep_lag4      ep_lag5      ep_lag6      ep_lag7      ep_lag8      ep_lag9 \n",
            "      0.0787       0.0462       0.0084       0.0069       0.0037       0.0019 \n",
            "    ep_lag10     ep_lag11     ep_lag12     tbl_lag1     tbl_lag2     tbl_lag3 \n",
            "      0.0015       0.0027       0.0029       0.0840       0.0324       0.0252 \n",
            "    tbl_lag4     tbl_lag5     tbl_lag6     tbl_lag7     tbl_lag8     tbl_lag9 \n",
            "      0.0392       0.0418       0.0121       0.0138       0.0177       0.0183 \n",
            "   tbl_lag10    tbl_lag11    tbl_lag12  logret_lag1  logret_lag2  logret_lag3 \n",
            "      0.1761       0.0712       0.0984           NA           NA           NA \n",
            " logret_lag4  logret_lag5  logret_lag6  logret_lag7  logret_lag8  logret_lag9 \n",
            "          NA           NA           NA           NA           NA           NA \n",
            "logret_lag10 logret_lag11 logret_lag12 \n",
            "          NA           NA       0.0040 \n"
          ]
        }
      ]
    },
    {
      "cell_type": "code",
      "source": [
        "#Visualisation:\n",
        "\n",
        "# Convert to a dataframe (no sorting!)\n",
        "granger_df <- data.frame(\n",
        "  variable = names(granger_results),\n",
        "  p_value = as.numeric(granger_results)\n",
        ")\n",
        "\n",
        "# Define colors: red if p < 0.05, grey otherwise\n",
        "granger_df$color <- ifelse(granger_df$p_value < 0.05, \"red\", \"grey\")\n",
        "\n",
        "# Create the barplot keeping your current order\n",
        "barplot(\n",
        "  height = granger_df$p_value,\n",
        "  names.arg = granger_df$variable,\n",
        "  col = granger_df$color,\n",
        "  las = 2,  # rotate variable names vertically\n",
        "  main = \"Granger Causality p-values (Original Order)\",\n",
        "  ylab = \"p-value\",\n",
        "  cex.names = 0.7\n",
        ")\n",
        "\n",
        "# Add horizontal line at 0.05\n",
        "abline(h = 0.05, col = \"blue\", lty = 2)\n"
      ],
      "metadata": {
        "colab": {
          "base_uri": "https://localhost:8080/"
        },
        "id": "xrEt6t-aCFdT",
        "outputId": "bd4730c8-38b8-4d77-dd68-15bc5f2ffdf5"
      },
      "execution_count": null,
      "outputs": [
        {
          "output_type": "display_data",
          "data": {
            "text/plain": [
              "Plot with title “Granger Causality p-values (Original Order)”"
            ],
            "image/png": "[encoded data removed]"
          },
          "metadata": {
            "image/png": {
              "width": 420,
              "height": 420
            }
          }
        }
      ]
    },
    {
      "cell_type": "markdown",
      "source": [
        "We would keep those with dcor > 0.10 and p < 0.05 in Granger causality"
      ],
      "metadata": {
        "id": "BQK7QY5OGlY5"
      }
    },
    {
      "cell_type": "markdown",
      "source": [
        "Combined Results:"
      ],
      "metadata": {
        "id": "VpJRMbYfG2Ye"
      }
    },
    {
      "cell_type": "code",
      "source": [
        "# Create a combined dataframe\n",
        "combined_results <- data.frame(\n",
        "  variable = names(granger_results),\n",
        "  granger_p = as.numeric(granger_results),\n",
        "  dcor_value = as.numeric(dcor_results[names(granger_results)])\n",
        ")\n",
        "\n",
        "# Mark which variables pass both criteria\n",
        "combined_results$selected <- ifelse(\n",
        "  combined_results$granger_p < 0.05 & combined_results$dcor_value > 0.1,\n",
        "  \"Selected\", \"Not Selected\"\n",
        ")\n",
        "\n",
        "print(combined_results)"
      ],
      "metadata": {
        "colab": {
          "base_uri": "https://localhost:8080/"
        },
        "id": "860VndPwG3mI",
        "outputId": "1594bdbc-a4b0-470f-8508-19f38440b215"
      },
      "execution_count": null,
      "outputs": [
        {
          "output_type": "stream",
          "name": "stdout",
          "text": [
            "       variable   granger_p dcor_value     selected\n",
            "1            de 0.016939288 0.58927150     Selected\n",
            "2            ep 0.411251244 0.09841258 Not Selected\n",
            "3           tbl 0.247864828 0.13789919 Not Selected\n",
            "4       de_lag1 0.021242254 0.58463546     Selected\n",
            "5       de_lag2 0.023069300 0.58155439     Selected\n",
            "6       de_lag3 0.023561598 0.57984196     Selected\n",
            "7       de_lag4 0.014219969 0.57940362     Selected\n",
            "8       de_lag5 0.029600436 0.57560499     Selected\n",
            "9       de_lag6 0.042420190 0.56968138     Selected\n",
            "10      de_lag7 0.089269602 0.56423383 Not Selected\n",
            "11      de_lag8 0.345776292 0.55849078 Not Selected\n",
            "12      de_lag9 0.595948889 0.55326857 Not Selected\n",
            "13     de_lag10 0.456368136 0.54548212 Not Selected\n",
            "14     de_lag11 0.838566633 0.53449049 Not Selected\n",
            "15     de_lag12 0.827118438 0.52326160 Not Selected\n",
            "16      ep_lag1 0.335154881 0.03243683 Not Selected\n",
            "17      ep_lag2 0.251844332 0.07202633 Not Selected\n",
            "18      ep_lag3 0.085767277        NaN Not Selected\n",
            "19      ep_lag4 0.078653773        NaN Not Selected\n",
            "20      ep_lag5 0.046177314        NaN         <NA>\n",
            "21      ep_lag6 0.008448124        NaN         <NA>\n",
            "22      ep_lag7 0.006932381        NaN         <NA>\n",
            "23      ep_lag8 0.003708822        NaN         <NA>\n",
            "24      ep_lag9 0.001876952        NaN         <NA>\n",
            "25     ep_lag10 0.001520432        NaN         <NA>\n",
            "26     ep_lag11 0.002686301        NaN         <NA>\n",
            "27     ep_lag12 0.002879502        NaN         <NA>\n",
            "28     tbl_lag1 0.084026093 0.12877236 Not Selected\n",
            "29     tbl_lag2 0.032390703 0.14954529     Selected\n",
            "30     tbl_lag3 0.025172844 0.14435398     Selected\n",
            "31     tbl_lag4 0.039151662 0.13925562     Selected\n",
            "32     tbl_lag5 0.041756938 0.13482787     Selected\n",
            "33     tbl_lag6 0.012116986 0.09681714 Not Selected\n",
            "34     tbl_lag7 0.013758062 0.08957112 Not Selected\n",
            "35     tbl_lag8 0.017723987 0.08815973 Not Selected\n",
            "36     tbl_lag9 0.018327935 0.09292463 Not Selected\n",
            "37    tbl_lag10 0.176125867 0.08455472 Not Selected\n",
            "38    tbl_lag11 0.071166179 0.09010275 Not Selected\n",
            "39    tbl_lag12 0.098368586 0.08915268 Not Selected\n",
            "40  logret_lag1          NA 0.45866409         <NA>\n",
            "41  logret_lag2          NA 0.46295648         <NA>\n",
            "42  logret_lag3          NA 0.51877833         <NA>\n",
            "43  logret_lag4          NA 0.43085770         <NA>\n",
            "44  logret_lag5          NA 0.38268823         <NA>\n",
            "45  logret_lag6          NA 0.43939705         <NA>\n",
            "46  logret_lag7          NA 0.44111104         <NA>\n",
            "47  logret_lag8          NA 0.48717709         <NA>\n",
            "48  logret_lag9          NA 0.46569490         <NA>\n",
            "49 logret_lag10          NA 0.43260599         <NA>\n",
            "50 logret_lag11          NA 0.52740113         <NA>\n",
            "51 logret_lag12 0.003982218 0.43935610     Selected\n"
          ]
        }
      ]
    },
    {
      "cell_type": "code",
      "source": [
        "#Visualisation\n",
        "\n",
        "# Barplot of distance correlation values, color-coded by selection\n",
        "barplot(\n",
        "  height = combined_results$dcor_value,\n",
        "  names.arg = combined_results$variable,\n",
        "  col = ifelse(combined_results$selected == \"Selected\", \"green\", \"grey\"),\n",
        "  las = 2,  # Rotate labels vertically\n",
        "  main = \"Variables Selected by Dcor > 0.1 and Granger p < 0.05\",\n",
        "  ylab = \"Distance Correlation\",\n",
        "  cex.names = 0.7\n",
        ")\n",
        "\n",
        "# Add reference line for dcor = 0.1\n",
        "abline(h = 0.1, col = \"blue\", lty = 2)"
      ],
      "metadata": {
        "colab": {
          "base_uri": "https://localhost:8080/"
        },
        "id": "k_nhr-fJHAWk",
        "outputId": "b74491ee-39e6-4ad3-db96-49ebd7784436"
      },
      "execution_count": null,
      "outputs": [
        {
          "output_type": "display_data",
          "data": {
            "text/plain": [
              "Plot with title “Variables Selected by Dcor > 0.1 and Granger p < 0.05”"
            ],
            "image/png": "[encoded data removed]"
          },
          "metadata": {
            "image/png": {
              "width": 420,
              "height": 420
            }
          }
        }
      ]
    },
    {
      "cell_type": "code",
      "source": [
        "# Select features\n",
        "selected_vars <- combined_results$variable[\n",
        "  combined_results$granger_p < 0.05 &\n",
        "  combined_results$dcor_value > 0.1 &\n",
        "  !is.na(combined_results$dcor_value) &\n",
        "  !is.na(combined_results$granger_p)\n",
        "]\n",
        "\n",
        "print(selected_vars)"
      ],
      "metadata": {
        "colab": {
          "base_uri": "https://localhost:8080/"
        },
        "id": "i6i324g8LePW",
        "outputId": "c5f61016-74db-4769-d964-8f1f2739b391"
      },
      "execution_count": null,
      "outputs": [
        {
          "output_type": "stream",
          "name": "stdout",
          "text": [
            " [1] \"de\"           \"de_lag1\"      \"de_lag2\"      \"de_lag3\"      \"de_lag4\"     \n",
            " [6] \"de_lag5\"      \"de_lag6\"      \"tbl_lag2\"     \"tbl_lag3\"     \"tbl_lag4\"    \n",
            "[11] \"tbl_lag5\"     \"logret_lag12\"\n"
          ]
        }
      ]
    },
    {
      "cell_type": "markdown",
      "source": [
        "###Neural Network:"
      ],
      "metadata": {
        "id": "bmdsTwU5EyvY"
      }
    },
    {
      "cell_type": "code",
      "source": [
        "# New train and test\n",
        "training_selected <- training[, c(\"logret\", selected_vars)]\n",
        "testing_selected <- testing[, c(\"logret\", selected_vars)]"
      ],
      "metadata": {
        "id": "w4avxOQ7MKR-"
      },
      "execution_count": null,
      "outputs": []
    },
    {
      "cell_type": "code",
      "source": [
        "# Create the formula dynamically\n",
        "n <- names(training_selected)\n",
        "f <- as.formula(paste(\"logret ~\", paste(n[!n %in% \"logret\"], collapse = \" + \")))"
      ],
      "metadata": {
        "id": "_LrfRoSzKyxZ"
      },
      "execution_count": null,
      "outputs": []
    },
    {
      "cell_type": "code",
      "source": [
        "#Fitting random model\n",
        "\n",
        "# Basic model first: two hidden layers\n",
        "size = 20  # number of neurons per layer\n",
        "\n",
        "nnetFitML <- neuralnet(f, data=training_selected,\n",
        "                       hidden=c(size, size),  # Two hidden layers\n",
        "                       stepmax = 1e+05, rep=1,\n",
        "                       err.fct = 'sse',\n",
        "                       act.fct = 'logistic',  # Logistic activation (you can tune later)\n",
        "                       linear.output=TRUE)  # TRUE because we are predicting real numbers"
      ],
      "metadata": {
        "id": "IBeZT7H-Myud"
      },
      "execution_count": null,
      "outputs": []
    },
    {
      "cell_type": "code",
      "source": [
        "# Predict on test set\n",
        "pred <- compute(nnetFitML, testing_selected[,-1])  # Remove 'logret' column\n",
        "prednetML <- pred$net.result"
      ],
      "metadata": {
        "id": "tczUhrQZM8VK"
      },
      "execution_count": null,
      "outputs": []
    },
    {
      "cell_type": "code",
      "source": [
        "# Actual values\n",
        "actualTS <- testing_selected$logret\n",
        "\n",
        "# Sum of Squared Residuals\n",
        "ssr <- function(actual, pred){\n",
        "  sum((actual - pred)^2)\n",
        "}\n",
        "\n",
        "# Normalized Root Mean Squared Error\n",
        "nrmse <- function(actual, pred){\n",
        "  sqrt(ssr(actual, pred) / ((length(actual) - 1) * var(actual)))\n",
        "}\n",
        "\n",
        "# Percentage Correct\n",
        "pcorrect <- function(actual, pred){\n",
        "  (1 - nrmse(actual, pred)) * 100\n",
        "}\n",
        "\n",
        "# Results\n",
        "nrmse_value <- nrmse(actualTS, prednetML)\n",
        "pcorrect_value <- pcorrect(actualTS, prednetML)\n",
        "\n",
        "cat(\"NNET Model: NRMSE =\", round(nrmse_value,4), \", Pcorrect =\", round(pcorrect_value,2), \"%\\n\")\n"
      ],
      "metadata": {
        "colab": {
          "base_uri": "https://localhost:8080/"
        },
        "id": "AdhClxxANBZA",
        "outputId": "6d621cec-a3da-48a4-9630-21f030aae51d"
      },
      "execution_count": null,
      "outputs": [
        {
          "output_type": "stream",
          "name": "stdout",
          "text": [
            "NNET Model: NRMSE = 2.2636 , Pcorrect = -126.36 %\n"
          ]
        }
      ]
    },
    {
      "cell_type": "markdown",
      "source": [
        "NRMSE > 1 means worse than just predicting the mean every time :( awful modeeeeeeel. help!"
      ],
      "metadata": {
        "id": "zPPfNfFcN4FN"
      }
    },
    {
      "cell_type": "code",
      "source": [
        "#Visualisation of Prediction vs Actual Target\n",
        "\n",
        "plot(as.numeric(actualTS), as.numeric(prednetML),\n",
        "     xlab = \"Actual logret\", ylab = \"Predicted logret\",\n",
        "     main = \"NNET Predictions vs Actual (Scatter Plot)\",\n",
        "     pch = 16, col = \"darkgreen\")\n",
        "abline(0,1,col=\"red\",lty=2)"
      ],
      "metadata": {
        "colab": {
          "base_uri": "https://localhost:8080/",
          "height": 437
        },
        "id": "oStN_KBUNI83",
        "outputId": "e5c87bfa-6898-4fdb-c488-a6bb0abfd2af"
      },
      "execution_count": null,
      "outputs": [
        {
          "output_type": "display_data",
          "data": {
            "text/plain": [
              "Plot with title “NNET Predictions vs Actual (Scatter Plot)”"
            ],
            "image/png": "[encoded data removed]"
          },
          "metadata": {
            "image/png": {
              "width": 420,
              "height": 420
            }
          }
        }
      ]
    },
    {
      "cell_type": "markdown",
      "source": [
        "####Tuning:"
      ],
      "metadata": {
        "id": "Iu6mI3qSOVSn"
      }
    },
    {
      "cell_type": "code",
      "source": [
        "# Formula\n",
        "n <- names(training_selected)\n",
        "f <- as.formula(paste(\"logret ~\", paste(n[!n %in% \"logret\"], collapse = \" + \")))\n",
        "\n",
        "# Functions to Evaluate\n",
        "ssr <- function(actual, pred) sum((actual - pred)^2)\n",
        "nrmse <- function(actual, pred) sqrt(ssr(actual, pred) / ((length(actual) - 1) * var(actual)))\n",
        "pcorrect <- function(actual, pred) (1 - nrmse(actual, pred)) * 100\n",
        "\n",
        "# Create empty list to store results\n",
        "results <- list()\n",
        "\n",
        "# Define different architectures\n",
        "models <- list(\n",
        "  list(hidden = c(10,10), act = \"logistic\", name = \"Model 1\"),\n",
        "  list(hidden = c(20,20,20), act = \"logistic\", name = \"Model 2\"),\n",
        "  list(hidden = c(5,5), act = \"tanh\", name = \"Model 3\"),\n",
        "  list(hidden = c(5,5), act = \"logistic\", name = \"Model 4\")\n",
        ")\n",
        "\n",
        "# Loop over models\n",
        "for (m in models) {\n",
        "\n",
        "  # Train model\n",
        "  fit <- neuralnet(f, data=training_selected,\n",
        "                   hidden = m$hidden,\n",
        "                   stepmax = 1e+05, rep=1,\n",
        "                   err.fct = 'sse',\n",
        "                   act.fct = m$act,\n",
        "                   linear.output=TRUE)\n",
        "\n",
        "  # Predict\n",
        "  pred <- compute(fit, testing_selected[,-1])\n",
        "  pred_values <- pred$net.result\n",
        "\n",
        "  # Evaluate\n",
        "  actualTS <- testing_selected$logret\n",
        "  nrmse_value <- nrmse(actualTS, pred_values)\n",
        "  pcorrect_value <- pcorrect(actualTS, pred_values)\n",
        "\n",
        "  # Store results\n",
        "  results[[m$name]] <- list(\n",
        "    nrmse = round(nrmse_value,4),\n",
        "    pcorrect = round(pcorrect_value,2)\n",
        "  )\n",
        "\n",
        "  cat(m$name, \": NRMSE =\", round(nrmse_value,4), \", Pcorrect =\", round(pcorrect_value,2), \"%\\n\")\n",
        "}\n"
      ],
      "metadata": {
        "colab": {
          "base_uri": "https://localhost:8080/"
        },
        "id": "WujYKORYObVh",
        "outputId": "c6f6364a-5a1c-46d4-9160-4b678dad7acd"
      },
      "execution_count": null,
      "outputs": [
        {
          "output_type": "stream",
          "name": "stdout",
          "text": [
            "Model 1 : NRMSE = 7.8188 , Pcorrect = -681.88 %\n",
            "Model 2 : NRMSE = 3.3483 , Pcorrect = -234.83 %\n",
            "Model 3 : NRMSE = 5.5452 , Pcorrect = -454.52 %\n",
            "Model 4 : NRMSE = 1.0534 , Pcorrect = -5.34 %\n"
          ]
        }
      ]
    },
    {
      "cell_type": "markdown",
      "source": [
        "awful models :( let's try other activation functions"
      ],
      "metadata": {
        "id": "qHngaOhUPlfM"
      }
    },
    {
      "cell_type": "code",
      "source": [
        "# Identity activation function (f(x) = x)\n",
        "identity_act <- function(x) { x }\n",
        "\n",
        "# ReLU activation function (f(x) = max(0, x))\n",
        "relu_act <- function(x) { ifelse(x > 0, x, 0) }\n",
        "\n",
        "# Softplus activation (smooth ReLU: f(x) = log(1+exp(x)))\n",
        "softplus_act <- function(x) { log(1 + exp(x)) }\n",
        "\n",
        "# Define activation functions properly\n",
        "activation_list <- list(\n",
        "  \"identity\" = identity_act,\n",
        "  \"logistic\" = \"logistic\",   # native\n",
        "  \"tanh\" = \"tanh\",           # native\n",
        "  \"relu\" = relu_act          # custom ReLU\n",
        ")\n"
      ],
      "metadata": {
        "id": "7YrmwPhcRvP3"
      },
      "execution_count": null,
      "outputs": []
    },
    {
      "cell_type": "markdown",
      "source": [
        "this one runs for a lot of time:"
      ],
      "metadata": {
        "id": "8imMISWkfVFz"
      }
    },
    {
      "cell_type": "code",
      "source": [
        "# Define formula\n",
        "n <- names(training_selected)\n",
        "f <- as.formula(paste(\"logret ~\", paste(n[!n %in% \"logret\"], collapse = \" + \")))\n",
        "\n",
        "# Metrics functions\n",
        "mse <- function(actual, pred) mean((actual - pred)^2)\n",
        "nrmse <- function(actual, pred) sqrt(mean((actual - pred)^2) / var(actual))\n",
        "\n",
        "# Activation functions\n",
        "relu_act <- function(x) ifelse(x > 0, x, 0)\n",
        "\n",
        "# Correct activation list (no identity)\n",
        "activation_list <- list(\n",
        "  \"logistic\" = \"logistic\",\n",
        "  \"tanh\" = \"tanh\",\n",
        "  \"relu\" = relu_act\n",
        ")\n",
        "\n",
        "# Hidden layer configurations\n",
        "layers <- list(\n",
        "  \"1 layer\" = c(10),\n",
        "  \"2 layers\" = c(10,10),\n",
        "  \"3 layers\" = c(10,10,10),\n",
        "  \"4 layers\" = c(10,10,10,10)\n",
        ")\n",
        "\n",
        "# Results list\n",
        "results <- list()\n",
        "\n",
        "# Training Loop\n",
        "for (act in names(activation_list)) {\n",
        "  for (lay_name in names(layers)) {\n",
        "    lay <- layers[[lay_name]]\n",
        "    cat(\"Training:\", act, \"-\", lay_name, \"\\n\")\n",
        "\n",
        "    fit <- tryCatch(\n",
        "      neuralnet(f, data=training_selected,\n",
        "                hidden=lay, stepmax=1e6, rep=1,\n",
        "                err.fct='sse', act.fct=activation_list[[act]],\n",
        "                linear.output=TRUE),\n",
        "      error = function(e) NULL\n",
        "    )\n",
        "\n",
        "    if (is.null(fit) ||\n",
        "        !(\"result.matrix\" %in% names(fit)) ||\n",
        "        !\"convergence\" %in% rownames(fit$result.matrix) ||\n",
        "        fit$result.matrix[\"convergence\", ] == 1) {\n",
        "      cat(\"Skipping:\", act, \"-\", lay_name, \"(failed or not converged)\\n\")\n",
        "      next\n",
        "    }\n",
        "\n",
        "    # Predict\n",
        "    pred <- compute(fit, testing_selected[,-1])$net.result\n",
        "\n",
        "    # Evaluate\n",
        "    results[[paste(act, \"-\", lay_name)]] <- list(\n",
        "      mse = round(mse(testing_selected$logret, pred), 6),\n",
        "      nrmse = round(nrmse(testing_selected$logret, pred), 4)\n",
        "    )\n",
        "  }\n",
        "}\n",
        "\n",
        "# Build results table\n",
        "results_df <- do.call(rbind, lapply(names(results), function(name) {\n",
        "  c(Model = name, results[[name]])\n",
        "}))\n",
        "\n",
        "# Print final comparison\n",
        "print(results_df)\n"
      ],
      "metadata": {
        "id": "ChcggTFncRgL"
      },
      "execution_count": null,
      "outputs": []
    },
    {
      "cell_type": "markdown",
      "source": [
        "###Gaussian Process:"
      ],
      "metadata": {
        "id": "eC9WjhkOfcBZ"
      }
    },
    {
      "cell_type": "code",
      "source": [
        "library(kernlab)"
      ],
      "metadata": {
        "id": "tUWaFiz-fsUD"
      },
      "execution_count": null,
      "outputs": []
    },
    {
      "cell_type": "code",
      "source": [
        "# Define features and target\n",
        "x_train <- training_selected[,-1]\n",
        "y_train <- training_selected$logret\n",
        "\n",
        "x_test <- testing_selected[,-1]\n",
        "y_test <- testing_selected$logret\n",
        "\n",
        "# Kernels to try\n",
        "kernels <- c(\"rbfdot\", \"polydot\", \"vanilladot\", \"tanhdot\")\n",
        "\n",
        "# Store results\n",
        "gp_results <- list()\n",
        "\n",
        "# Metrics\n",
        "mse <- function(actual, pred) mean((actual - pred)^2)\n",
        "nrmse <- function(actual, pred) sqrt(mean((actual - pred)^2) / var(actual))\n",
        "\n",
        "# Loop over kernels\n",
        "for (ker in kernels) {\n",
        "  cat(\"Training GP with Kernel:\", ker, \"\\n\")\n",
        "\n",
        "  gp_model <- gausspr(x = as.matrix(x_train), y = y_train, kernel = ker)\n",
        "\n",
        "  # Predict\n",
        "  y_pred <- predict(gp_model, as.matrix(x_test))\n",
        "\n",
        "  # Evaluate\n",
        "  gp_results[[ker]] <- list(\n",
        "    mse = round(mse(y_test, y_pred), 6),\n",
        "    nrmse = round(nrmse(y_test, y_pred), 4)\n",
        "  )\n",
        "}\n",
        "\n",
        "# Results table\n",
        "gp_results_df <- do.call(rbind, lapply(names(gp_results), function(name) {\n",
        "  c(Kernel = name, gp_results[[name]])\n",
        "}))\n",
        "\n",
        "# Print results\n",
        "print(gp_results_df)\n"
      ],
      "metadata": {
        "colab": {
          "base_uri": "https://localhost:8080/"
        },
        "id": "dEn4vpNmfeWA",
        "outputId": "1810c614-6d4b-4dea-8b55-1348ee4d72f6"
      },
      "execution_count": null,
      "outputs": [
        {
          "output_type": "stream",
          "name": "stdout",
          "text": [
            "Training GP with Kernel: rbfdot \n",
            "Using automatic sigma estimation (sigest) for RBF or laplace kernel \n",
            "Training GP with Kernel: polydot \n",
            " Setting default kernel parameters  \n",
            "Training GP with Kernel: vanilladot \n",
            " Setting default kernel parameters  \n",
            "Training GP with Kernel: tanhdot \n",
            " Setting default kernel parameters  \n",
            "     Kernel       mse      nrmse \n",
            "[1,] \"rbfdot\"     0.002145 1.1041\n",
            "[2,] \"polydot\"    0.002043 1.0775\n",
            "[3,] \"vanilladot\" 0.002043 1.0775\n",
            "[4,] \"tanhdot\"    0.116036 8.1204\n"
          ]
        }
      ]
    },
    {
      "cell_type": "markdown",
      "source": [
        "###LSTM:"
      ],
      "metadata": {
        "id": "BYEsKNAjgJM_"
      }
    },
    {
      "cell_type": "code",
      "source": [
        "install.packages(\"reticulate\")\n",
        "library(reticulate)\n",
        "install_python(version = \"3.10.11\")"
      ],
      "metadata": {
        "colab": {
          "base_uri": "https://localhost:8080/",
          "height": 419
        },
        "id": "SzDyTWgGiW_b",
        "outputId": "0a84cc7e-26fe-4a8d-cd84-612a6bf5a2b3"
      },
      "execution_count": null,
      "outputs": [
        {
          "output_type": "stream",
          "name": "stderr",
          "text": [
            "Installing package into ‘/usr/local/lib/R/site-library’\n",
            "(as ‘lib’ is unspecified)\n",
            "\n"
          ]
        },
        {
          "output_type": "stream",
          "name": "stdout",
          "text": [
            "Installing pyenv ...\n",
            "Done! pyenv has been installed to '/root/.local/share/r-reticulate/pyenv/bin/pyenv'.\n"
          ]
        },
        {
          "output_type": "stream",
          "name": "stderr",
          "text": [
            "+ /root/.local/share/r-reticulate/pyenv/bin/pyenv update\n",
            "\n",
            "+ /root/.local/share/r-reticulate/pyenv/bin/pyenv install --skip-existing 3.10.11\n",
            "\n"
          ]
        },
        {
          "output_type": "error",
          "ename": "ERROR",
          "evalue": "Error: installation of Python 3.10.11 failed\n",
          "traceback": [
            "Error: installation of Python 3.10.11 failed\nTraceback:\n",
            "1. stopf(\"installation of Python %s failed\", version)",
            "2. stop(sprintf(fmt, ...), call. = call.)",
            "3. .handleSimpleError(function (cnd) \n . {\n .     watcher$capture_plot_and_output()\n .     cnd <- sanitize_call(cnd)\n .     watcher$push(cnd)\n .     switch(on_error, continue = invokeRestart(\"eval_continue\"), \n .         stop = invokeRestart(\"eval_stop\"), error = NULL)\n . }, \"installation of Python 3.10.11 failed\", base::quote(NULL))"
          ]
        }
      ]
    },
    {
      "cell_type": "code",
      "source": [
        "library(keras)\n",
        "install_keras()"
      ],
      "metadata": {
        "colab": {
          "base_uri": "https://localhost:8080/",
          "height": 1000
        },
        "id": "j3tb0ajvh0Xr",
        "outputId": "95558e9a-f03e-48fc-8049-137f77bb2702"
      },
      "execution_count": null,
      "outputs": [
        {
          "output_type": "error",
          "ename": "ERROR",
          "evalue": "Error in stop_no_virtualenv_starter(version = version, python = python): Suitable Python installation for creating a venv not found.\n  Requested Python: /usr/bin/python3.10\n  Requested version constraint: 3.10\nPlease install Python with one of following methods:\n- https://github.com/rstudio/python-builds/\n- reticulate::install_python(version = '<version>')\n- sudo apt install python3-venv python3-pip python3-dev\n",
          "traceback": [
            "Error in stop_no_virtualenv_starter(version = version, python = python): Suitable Python installation for creating a venv not found.\n  Requested Python: /usr/bin/python3.10\n  Requested version constraint: 3.10\nPlease install Python with one of following methods:\n- https://github.com/rstudio/python-builds/\n- reticulate::install_python(version = '<version>')\n- sudo apt install python3-venv python3-pip python3-dev\nTraceback:\n",
            "1. tensorflow::install_tensorflow(method = method, conda = conda, \n .     version = tensorflow, extra_packages = pkgs, ...)",
            "2. do.call(reticulate::py_install, py_install_args)",
            "3. (function (packages, envname = NULL, method = c(\"auto\", \"virtualenv\", \n .     \"conda\"), conda = \"auto\", python_version = NULL, pip = FALSE, \n .     ..., pip_ignore_installed = ignore_installed, ignore_installed = FALSE) \n . {\n .     check_forbidden_install(\"Python packages\")\n .     if (is.null(envname) && is_epheremal_venv_initialized()) {\n .         if (!is.null(python_version)) {\n .             stop(\"Python version requirements cannot be \", \"changed after Python has been initialized\")\n .         }\n .         warning(\"An ephemeral virtual environment managed by 'reticulate' is currently in use.\\n\", \n .             \"To add more packages to your current session, call `py_require()` instead\\n\", \n .             \"of `py_install()`. Running:\\n  \", paste0(\"`py_require(c(\", \n .                 paste0(sprintf(\"\\\"%s\\\"\", packages), collapse = \", \"), \n .                 \"))`\"))\n .         py_require(packages)\n .         return(invisible())\n .     }\n .     if (is.null(envname)) {\n .         python <- tryCatch(py_exe(), error = function(e) NULL)\n .         if (!is.null(python)) {\n .             info <- python_info(python)\n .             type <- info$type %||% \"unknown\"\n .             if (type %in% c(\"virtualenv\", \"conda\")) \n .                 envname <- info$root\n .             if (identical(info$type, \"virtualenv\")) \n .                 method <- \"virtualenv\"\n .             else if (identical(info$type, \"conda\")) \n .                 method <- \"conda\"\n .             if (identical(conda, \"auto\") && identical(info$type, \n .                 \"conda\")) \n .                 conda <- info$conda %||% find_conda()[[1L]]\n .         }\n .     }\n .     method <- match.arg(method)\n .     if (method == \"auto\") \n .         method <- py_install_method_detect(envname = envname, \n .             conda = conda)\n .     switch(method, virtualenv = virtualenv_install(envname = envname, \n .         packages = packages, ignore_installed = pip_ignore_installed, \n .         python_version = python_version, ...), conda = conda_install(envname, \n .         packages = packages, conda = conda, python_version = python_version, \n .         pip = pip, pip_ignore_installed = pip_ignore_installed, \n .         ...), stop(\"unrecognized installation method '\", method, \n .         \"'\"))\n .     invisible(NULL)\n . })(packages = c(\"tensorflow==2.15.*\", \"tensorflow-hub\", \"tensorflow-datasets\", \n . \"scipy\", \"requests\", \"Pillow\", \"h5py\", \"pandas\", \"pydot\"), envname = \"r-tensorflow\", \n .     method = \"auto\", conda = \"auto\", python_version = structure(list(\n .         c(3L, 10L)), class = \"numeric_version\"), pip = TRUE, \n .     pip_ignore_installed = FALSE)",
            "4. virtualenv_install(envname = envname, packages = packages, ignore_installed = pip_ignore_installed, \n .     python_version = python_version, ...)",
            "5. virtualenv_create(envname, version = python_version, packages = NULL)",
            "6. check_can_be_virtualenv_starter(python, version)",
            "7. stop_no_virtualenv_starter(version = version, python = python)",
            "8. stop(paste0(.msg, collapse = \"\\n\"))",
            "9. .handleSimpleError(function (cnd) \n . {\n .     watcher$capture_plot_and_output()\n .     cnd <- sanitize_call(cnd)\n .     watcher$push(cnd)\n .     switch(on_error, continue = invokeRestart(\"eval_continue\"), \n .         stop = invokeRestart(\"eval_stop\"), error = NULL)\n . }, \"Suitable Python installation for creating a venv not found.\\n  Requested Python: /usr/bin/python3.10\\n  Requested version constraint: 3.10\\nPlease install Python with one of following methods:\\n- https://github.com/rstudio/python-builds/\\n- reticulate::install_python(version = '<version>')\\n- sudo apt install python3-venv python3-pip python3-dev\", \n .     base::quote(stop_no_virtualenv_starter(version = version, \n .         python = python)))"
          ]
        }
      ]
    },
    {
      "cell_type": "code",
      "source": [
        "# Standardize predictors\n",
        "means <- apply(training_selected[,-1], 2, mean)\n",
        "sds <- apply(training_selected[,-1], 2, sd)\n",
        "\n",
        "x_train <- scale(training_selected[,-1], center=means, scale=sds)\n",
        "x_test <- scale(testing_selected[,-1], center=means, scale=sds)\n",
        "\n",
        "y_train <- training_selected$logret\n",
        "y_test <- testing_selected$logret\n"
      ],
      "metadata": {
        "id": "WgprWEuJgWwJ"
      },
      "execution_count": null,
      "outputs": []
    },
    {
      "cell_type": "code",
      "source": [
        "#model:\n",
        "\n",
        "means <- apply(training_selected[,-1], 2, mean)\n",
        "sds <- apply(training_selected[,-1], 2, sd)\n",
        "\n",
        "x_train <- scale(training_selected[,-1], center=means, scale=sds)\n",
        "x_test <- scale(testing_selected[,-1], center=means, scale=sds)\n",
        "\n",
        "y_train <- training_selected$logret\n",
        "y_test <- testing_selected$logret\n",
        "\n",
        "# Set timesteps\n",
        "timesteps <- 3\n",
        "\n",
        "reshape_lstm_data <- function(x, y, timesteps) {\n",
        "  n_samples <- nrow(x) - timesteps\n",
        "  x_out <- array(NA, dim=c(n_samples, timesteps, ncol(x)))\n",
        "  y_out <- y[(timesteps+1):length(y)]\n",
        "\n",
        "  for (i in 1:n_samples) {\n",
        "    x_out[i,,] <- x[i:(i+timesteps-1),]\n",
        "  }\n",
        "\n",
        "  list(x = x_out, y = y_out)\n",
        "}\n",
        "\n",
        "train_data <- reshape_lstm_data(x_train, y_train, timesteps)\n",
        "test_data <- reshape_lstm_data(x_test, y_test, timesteps)\n",
        "\n",
        "# Build LSTM Model\n",
        "model <- keras_model_sequential() %>%\n",
        "  layer_lstm(units = 20, input_shape = c(timesteps, ncol(x_train))) %>%\n",
        "  layer_dense(units = 1)\n",
        "\n",
        "# Compile model\n",
        "model %>% compile(\n",
        "  optimizer = \"adam\",\n",
        "  loss = \"mse\"\n",
        ")\n",
        "\n",
        "# Train model\n",
        "history <- model %>% fit(\n",
        "  x = train_data$x,\n",
        "  y = train_data$y,\n",
        "  epochs = 100,\n",
        "  batch_size = 32,\n",
        "  validation_split = 0.2,\n",
        "  verbose = 2\n",
        ")\n",
        "\n",
        "# Predict\n",
        "pred_lstm <- model %>% predict(test_data$x)\n",
        "\n",
        "# Evaluation\n",
        "mse_lstm <- mean((pred_lstm - test_data$y)^2)\n",
        "nrmse_lstm <- sqrt(mse_lstm / var(test_data$y))\n",
        "\n",
        "cat(\"LSTM Model:\\n\")\n",
        "cat(\"MSE =\", round(mse_lstm, 6), \"\\n\")\n",
        "cat(\"NRMSE =\", round(nrmse_lstm, 4), \"\\n\")\n"
      ],
      "metadata": {
        "colab": {
          "base_uri": "https://localhost:8080/",
          "height": 1000
        },
        "id": "KngdMcjPheGo",
        "outputId": "e7585c83-069f-45cd-b751-f14028d0abf7"
      },
      "execution_count": null,
      "outputs": [
        {
          "output_type": "error",
          "ename": "ERROR",
          "evalue": "Error: Valid installation of TensorFlow not found.\n\nPython environments searched for 'tensorflow' package:\n /root/.local/share/uv/python/cpython-3.11.11-linux-x86_64-gnu/bin/python3.11\n\nPython exception encountered:\n Traceback (most recent call last):\n  File \"/usr/local/lib/R/site-library/reticulate/python/rpytools/loader.py\", line 122, in _find_and_load_hook\n    return _run_hook(name, _hook)\n           ^^^^^^^^^^^^^^^^^^^^^^\n  File \"/usr/local/lib/R/site-library/reticulate/python/rpytools/loader.py\", line 96, in _run_hook\n    module = hook()\n             ^^^^^^\n  File \"/usr/local/lib/R/site-library/reticulate/python/rpytools/loader.py\", line 120, in _hook\n    return _find_and_load(name, import_)\n           ^^^^^^^^^^^^^^^^^^^^^^^^^^^^^\nModuleNotFoundError: No module named 'tensorflow'\n\n\nYou can install TensorFlow using the install_tensorflow() function.\n\n",
          "traceback": [
            "Error: Valid installation of TensorFlow not found.\n\nPython environments searched for 'tensorflow' package:\n /root/.local/share/uv/python/cpython-3.11.11-linux-x86_64-gnu/bin/python3.11\n\nPython exception encountered:\n Traceback (most recent call last):\n  File \"/usr/local/lib/R/site-library/reticulate/python/rpytools/loader.py\", line 122, in _find_and_load_hook\n    return _run_hook(name, _hook)\n           ^^^^^^^^^^^^^^^^^^^^^^\n  File \"/usr/local/lib/R/site-library/reticulate/python/rpytools/loader.py\", line 96, in _run_hook\n    module = hook()\n             ^^^^^^\n  File \"/usr/local/lib/R/site-library/reticulate/python/rpytools/loader.py\", line 120, in _hook\n    return _find_and_load(name, import_)\n           ^^^^^^^^^^^^^^^^^^^^^^^^^^^^^\nModuleNotFoundError: No module named 'tensorflow'\n\n\nYou can install TensorFlow using the install_tensorflow() function.\n\nTraceback:\n",
            "1. layer_dense(., units = 1)",
            "2. create_layer(keras$layers$Dense, object, list(units = as.integer(units), \n .     activation = activation, use_bias = use_bias, kernel_initializer = kernel_initializer, \n .     bias_initializer = bias_initializer, kernel_regularizer = kernel_regularizer, \n .     bias_regularizer = bias_regularizer, activity_regularizer = activity_regularizer, \n .     kernel_constraint = kernel_constraint, bias_constraint = bias_constraint, \n .     input_shape = normalize_shape(input_shape), batch_input_shape = normalize_shape(batch_input_shape), \n .     batch_size = as_nullable_integer(batch_size), dtype = dtype, \n .     name = name, trainable = trainable, weights = weights))",
            "3. keras$layers",
            "4. `$.python.builtin.module`(keras, \"layers\")",
            "5. py_get_attr(x, name, TRUE)",
            "6. (function (proxy) \n . {\n .     if (!py_is_module_proxy(proxy)) \n .         return(FALSE)\n .     collect_value <- function(name, clear = TRUE) {\n .         if (exists(name, envir = proxy, inherits = FALSE)) {\n .             value <- get(name, envir = proxy, inherits = FALSE)\n .             if (clear) \n .                 remove(list = name, envir = proxy)\n .             value\n .         }\n .         else {\n .             NULL\n .         }\n .     }\n .     get_module <- collect_value(\"get_module\")\n .     if (!is.null(get_module)) \n .         assign(\"module\", get_module(), envir = proxy)\n .     module <- get(\"module\", envir = proxy)\n .     before_load <- collect_value(\"before_load\", clear = TRUE)\n .     if (is.function(before_load)) \n .         before_load()\n .     result <- tryCatch(import(module), error = clear_error_handler())\n .     if (inherits(result, \"error\")) {\n .         on_error <- collect_value(\"on_error\", clear = FALSE)\n .         if (!is.null(on_error)) {\n .             if (is.function(on_error)) \n .                 on_error(result)\n .             stop(\"Error loading Python module \", module, call. = FALSE)\n .         }\n .         else {\n .             message <- py_config_error_message(paste(\"Python module\", \n .                 module, \"was not found.\"))\n .             stop(message, call. = FALSE)\n .         }\n .     }\n .     collect_value(\"on_error\", clear = TRUE)\n .     .globals$delay_load_imports <- NULL\n .     py_module_proxy_import(proxy)\n .     on_load <- collect_value(\"on_load\", clear = TRUE)\n .     if (is.function(on_load)) \n .         on_load()\n .     TRUE\n . })(<environment>)",
            "7. on_error(result)",
            "8. stop(tf_config()$error_message, call. = FALSE)",
            "9. .handleSimpleError(function (cnd) \n . {\n .     watcher$capture_plot_and_output()\n .     cnd <- sanitize_call(cnd)\n .     watcher$push(cnd)\n .     switch(on_error, continue = invokeRestart(\"eval_continue\"), \n .         stop = invokeRestart(\"eval_stop\"), error = NULL)\n . }, \"Valid installation of TensorFlow not found.\\n\\nPython environments searched for 'tensorflow' package:\\n /root/.local/share/uv/python/cpython-3.11.11-linux-x86_64-gnu/bin/python3.11\\n\\nPython exception encountered:\\n Traceback (most recent call last):\\n  File \\\"/usr/local/lib/R/site-library/reticulate/python/rpytools/loader.py\\\", line 122, in _find_and_load_hook\\n    return _run_hook(name, _hook)\\n           ^^^^^^^^^^^^^^^^^^^^^^\\n  File \\\"/usr/local/lib/R/site-library/reticulate/python/rpytools/loader.py\\\", line 96, in _run_hook\\n    module = hook()\\n             ^^^^^^\\n  File \\\"/usr/local/lib/R/site-library/reticulate/python/rpytools/loader.py\\\", line 120, in _hook\\n    return _find_and_load(name, import_)\\n           ^^^^^^^^^^^^^^^^^^^^^^^^^^^^^\\nModuleNotFoundError: No module named 'tensorflow'\\n\\n\\nYou can install TensorFlow using the install_tensorflow() function.\\n\", \n .     base::quote(NULL))"
          ]
        }
      ]
    }
  ]
}